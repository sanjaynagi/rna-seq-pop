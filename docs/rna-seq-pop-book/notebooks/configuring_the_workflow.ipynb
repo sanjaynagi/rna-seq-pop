{
 "cells": [
  {
   "cell_type": "markdown",
   "id": "f0ec785c",
   "metadata": {},
   "source": [
    "## Configuring the workflow\n",
    "\n",
    "RNA-Seq-Pop should be configured with a configuration file (config.yaml). In this document we describe the purpose of each config parameter. \n",
    "\n",
    "The configuration file looks like the following:\n",
    "\n",
    "```\n",
    "metadata: config/samples.tsv                    \n",
    "\n",
    "dataset: 'Ag_Bouake'                            \n",
    "\n",
    "fastq:\n",
    "      auto: True                                          \n",
    "\n",
    "```\n",
    "\n",
    "**metadata**: path to the sample metadata file    \n",
    "**dataset**: give this dataset a name    \n",
    "**fastq**:auto: If true, fastq files are in resources/reads/ and following `{sampleID_1.fastq.gz}` pattern. If False,             there are fq1 and fq2 columns pointing to the reads files for each sample."
   ]
  },
  {
   "cell_type": "markdown",
   "id": "d295aff4",
   "metadata": {},
   "source": [
    "```\n",
    "contigs: ['2L', '2R', '3L', '3R', 'X']\n",
    "\n",
    "reference:\n",
    "  genome:\n",
    "        \"resources/reference/Anopheles-gambiae-PEST_CHROMOSOMES_AgamP4.fa\"       \n",
    "  transcriptome:\n",
    "        \"resources/reference/Anopheles-gambiae-PEST_TRANSCRIPTS_AgamP4.12.fa\"      \n",
    "  gff:\n",
    "        \"resources/reference/Anopheles-gambiae-PEST_BASEFEATURES_AgamP4.12.gff3\"  \n",
    "  snpeffdb:\n",
    "        \"Anopheles_gambiae\"                                                       \n",
    "  genes2transcripts:                                                                \n",
    "        \"resources/exampleGene2TranscriptMap.tsv\"                                 \n",
    "```"
   ]
  },
  {
   "cell_type": "markdown",
   "id": "60d7e193",
   "metadata": {},
   "source": [
    "**contigs**   \n",
    "A list of contigs you wish to analyse, must match reference files.\n",
    "\n",
    "**Reference files**   \n",
    "*genome*: Path to the genome (.fa)    \n",
    "*transcriptome*: Path to the transcriptome (.fa)   \n",
    "*gff*: Path to the genome feature file (.gff3)  \n",
    "*genes2transcripts*: Path to the gene to transcript map (.tsv)  "
   ]
  },
  {
   "cell_type": "markdown",
   "id": "f8e232d4",
   "metadata": {},
   "source": [
    "```\n",
    "contrasts:\n",
    "      - 'Kisumu_gambiaeCont'\n",
    "      - 'gambiaeCont_gambiaePM'\n",
    "\n",
    "cutadapt:\n",
    "      activate: False\n",
    "      adaptors:\n",
    "\n",
    "QualityControl:                               \n",
    "      activate: True\n",
    "```"
   ]
  },
  {
   "cell_type": "markdown",
   "id": "f184f11c",
   "metadata": {},
   "source": [
    "**contrasts**  \n",
    "A list of the pairwise contrasts you wish to run, from values in the treatment column of the sample metadata file. The format is `control_case`.\n",
    "\n",
    "**cutadapt**  \n",
    "*activate*: if True trim reads  \n",
    "*adaptors*: adaptors to be trimmed  \n",
    "\n",
    "**QualityControl**      \n",
    "*activate*: If True run quality control analyses   "
   ]
  },
  {
   "cell_type": "markdown",
   "id": "2160475c",
   "metadata": {},
   "source": [
    "```\n",
    "DifferentialExpression:\n",
    "      activate: True                          # Activate differential expression analyses\n",
    "\n",
    "      venn:\n",
    "            activate: True\n",
    "            padj_threshold: 0.05\n",
    "            groups: ['gambiaeCont_gambiaePM', 'Kisumu_gambiaeCont']\n",
    "\n",
    "      progressiveGenes:                       \n",
    "            activate: True                    \n",
    "            padj_threshold: 0.05\n",
    "            fc_threshold: 1\n",
    "            groups: \"Kisumu_gambiaeCont_gambiaePM\"\n",
    "\n",
    "      GSEA:                                 # Activate fgsea Gene set enrichment analysis \n",
    "            activate: True\n",
    "            gaf: \"resources/reference/VectorBase-50_AgambiaePEST_GO.gaf\"\n",
    "            KeggSpeciesID: \"aga\"            # 3 letter KEGG species identifier. \"aga\" = Anopheles gambiae/coluzzii. \n",
    "            replaceString: \"AgaP_\"          # An.gambiae KEGG pathways have this string appended which needs removing"
   ]
  },
  {
   "cell_type": "markdown",
   "id": "3b939e45",
   "metadata": {},
   "source": [
    "**Differential Expression**  \n",
    "*activate*: If True run differential expression analysis  \n",
    "\n",
    "**Venn**  \n",
    "*activate*: If True make venn diagrams of de expressed genes\n",
    "*padj_threshold*: threshold to call significance\n",
    "*groups*: string or list of strings to indicate the de comparisons we wish to make a venn for. \n",
    "\n",
    "**ProgressiveGenes**   \n",
    "*activate*: If True, run progressiveGenes analysis. Will find genes that are consistently up or downregulated across two comparisons.  \n",
    "*padj_threshold*: threshold to call significance  \n",
    "*fc_threshold*: threshold to call overexpression  \n",
    "*groups*: String or list of strings, which indicate the 3 populations and 2 DE comparisons to be compared. In this example - which genes upregulated in Kisumu v gambiaeCont, are also upregulated in gambiaeCont v gambiaePM.  \n",
    "\n",
    "**gsea**\n",
    "*activate*: run fgsea Gene set enrichment analysis.  \n",
    "*gaf*: gaf file with go annotations\n",
    "*KeggSpeciesID*: 3 letter KEGG species identifier. \"aga\" = Anopheles gambiae/coluzzii.   \n",
    "*replaceString*: An.gambiae KEGG pathways have a string appended which needs removing.  "
   ]
  },
  {
   "cell_type": "markdown",
   "id": "e5922c16",
   "metadata": {},
   "source": [
    "```\n",
    "VariantAnalysis:\n",
    "      activate: True\n",
    "      caller: 'freebayes'\n",
    "      ploidy: 10                          # Ploidy level for freebayes to call at (Generally we are using pooled samples).For diploid organisms, this should be 2 * number of individuals in each pool\n",
    "      chunks: 9                           # Number of chunks to split each chromosome into when parallelising freebayes. 9 or less is recommended. \n",
    "\n",
    "      pca:                                # Run PCA on the genotype data?\n",
    "            activate: True\n",
    "            missingness: 1 \n",
    "      \n",
    "      summaryStatistics:                  # Estimate Population Genetic Summary Statistics such as Dxy, Pi\n",
    "            activate: True\n",
    "            missingness: 1\n",
    "      \n",
    "      selection:                          # Calculate Fst and PBS per gene and in windows\n",
    "            activate: True\n",
    "            missingness: 1\n",
    "            \n",
    "            # Population Branch Statistic analysis (Needs three conditions, two closely related and an outgroup)\n",
    "            pbs:\n",
    "                  activate: True          \n",
    "                  contrasts: \n",
    "                        - 'gambiaePM_gambiaeCont_Kisumu'\n",
    "                  windownames: ['small', 'large']\n",
    "                  windowsizes: [1000, 5000]\n",
    "                  windowsteps: [500, 1000]\n",
    "```"
   ]
  },
  {
   "cell_type": "markdown",
   "id": "e66c3803",
   "metadata": {},
   "source": [
    "**VariantAnalysis**  \n",
    "*activate* : If True, genome alignment and variant calling are performed.  \n",
    "*caller* : Currently only 'freebayes' is supported.  \n",
    "*ploidy* : the ploidy of our samples to call variants at. If you have pooled data, the ploidy should be n_samples per pool * organism ploidy.    \n",
    "*chunks* : The number of chunks to split each chromosome into to parallelise variant calling. \n",
    "\n",
    "**pca**  \n",
    "*activate*: If True, run PCA on the SNP data  \n",
    "*missingness*: a filter - the proportion of samples that have data at a given allele. 1 means a genomic position can have no missing calls across all samples.\n",
    "\n",
    "**summaryStatistics**  \n",
    "*activate*: If True, run genetic diversity analyses.   \n",
    "*missingness*: a filter - the proportion of samples that have data at a given allele. 1 means a genomic position can have no missing calls across all samples.\n",
    "\n",
    "**selection**  \n",
    "*activate*: If True, run Fst analysis  \n",
    "*missingness*: a filter - the proportion of samples that have data at a given allele. 1 means a genomic position can have no missing calls across all samples.\n",
    "\n",
    "**pbs**   \n",
    "*activate*: If True, run population branch statistic analysis. Requires 3 suitable treatment groups.  \n",
    "*contrasts*: List of the 3 groups as strings separated by an underscore.  \n",
    "*windownames*: selection analysis can be done with multiple window sizes, names  \n",
    "*windowsizes*: window sizes  \n",
    "*windowsteps*: window steps  "
   ]
  },
  {
   "cell_type": "markdown",
   "id": "dddecbca",
   "metadata": {},
   "source": [
    "```\n",
    "    # For An.gambiae s.l only - run Ancestry Informative Marker analysis. AIM datasets included in git repo.\n",
    "      ancestry:                                \n",
    "            activate: True\n",
    "            missingness: 0.5                                # proportion between 0 and 1 \n",
    "            gambcolu: \"resources/gamb_vs_colu.zarr\"         # path to gambcolu AIMs\n",
    "            arab: \"resources/gambcolu_vs_arab.zarr\"         # path to arab AIMs\n",
    "\n",
    "      # For Anopheles gambiae s.l only - Run analysis with compkaryo to determine proportion % karyotype\n",
    "      karyotype:                            \n",
    "            activate: True\n",
    "            inversions:\n",
    "                  - \"2La\"\n",
    "                  - \"2Rb\"\n",
    "```"
   ]
  },
  {
   "cell_type": "markdown",
   "id": "0c3497ea",
   "metadata": {},
   "source": [
    "**ancestry** (*An. gambiae* only)   \n",
    "*activate*: If True, run AIM analysis.    \n",
    "*missingness*: a filter - the proportion of samples that have data at a given allele. 1 means a genomic position can have no missing calls across all samples.   \n",
    "*gambcolu*: path to gamb_colu aims   \n",
    "*arab*: path to gambcolu_vs_arabiensis aims   \n",
    "\n",
    "**karyotype** (*An. gambiae* only)    \n",
    "*activate*: If True, run karyotyping module.  \n",
    "*inversions*: A list of inversions in compKaryo to analyse."
   ]
  },
  {
   "cell_type": "markdown",
   "id": "bf9ebb56",
   "metadata": {},
   "source": [
    "```\n",
    "miscellaneous:\n",
    "      # Creates allele count .xlsx reports on specific mutations of choice\n",
    "      VariantsOfInterest:             \n",
    "            activate: True                             \n",
    "            path: \"resources/exampleMutations.tsv\"         \n",
    "      \n",
    "      GeneFamiliesHeatmap:\n",
    "            activate: True\n",
    "            eggnog: resources/Anogam_long.pep_eggnog_diamond.emapper.annotations.GO\n",
    "            pfam: resources/Anogam_long.pep_Pfamscan.seqs\n",
    "\n",
    "      # find DE genes that lie under Ag1000g selective sweeps \n",
    "      # Only applicable for Anopheles gambiae s.l\n",
    "      sweeps:\n",
    "            activate: True\n",
    "            padj_threshold: 0.05\n",
    "            fc_threshold: 1.5\n",
    "```"
   ]
  },
  {
   "cell_type": "markdown",
   "id": "440d50df",
   "metadata": {},
   "source": [
    "**VariantsOfInterest**\n",
    "*activate*: If True, run variants of interest analysis   \n",
    "*path*: Path to variants of interest data  \n",
    "\n",
    "**GeneFamiliesHeatmap**   \n",
    "*activate*: If True, run heatmaps on gene families using go terms and pfam domains.  \n",
    "*eggnog*: path to eggnog file with go annotations for your organism (produced by eggnog-mapper).  \n",
    "*pfam*: path to pfam domains for your organism.  \n",
    "\n",
    "**sweeps** (*An. gambiae* only)  \n",
    "*activate*: If True, run analysis to determine if DE genes lie under known selective sweep loci.   \n",
    "*padj_threshold*: threshold to call significance  \n",
    "*fc_threshold*: threshold to call overexpression  "
   ]
  }
 ],
 "metadata": {
  "kernelspec": {
   "display_name": "Python 3 (ipykernel)",
   "language": "python",
   "name": "python3"
  },
  "language_info": {
   "codemirror_mode": {
    "name": "ipython",
    "version": 3
   },
   "file_extension": ".py",
   "mimetype": "text/x-python",
   "name": "python",
   "nbconvert_exporter": "python",
   "pygments_lexer": "ipython3",
   "version": "3.7.13"
  }
 },
 "nbformat": 4,
 "nbformat_minor": 5
}
