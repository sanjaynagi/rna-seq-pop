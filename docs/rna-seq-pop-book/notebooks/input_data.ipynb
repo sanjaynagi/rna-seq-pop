{
 "cells": [
  {
   "cell_type": "markdown",
   "id": "703231a2",
   "metadata": {},
   "source": [
    "# Input files\n",
    "\n",
    "RNA-Seq-Pop requires only: \n",
    "- Sample metadata file `.tsv`\n",
    "- Single-end or Paired-end RNA-Seq data - `.fastq.gz`\n",
    "- Reference genome files\n",
    "\n",
    "**Sample metadata file**\n",
    "\n",
    "The user must provide a tab-separated sample metadata file, which should be placed in the config/ folder and pointed to in the users `config.yaml`. The default name is `samples.tsv`. An example metadata file is provided in at `config/examplesamples.tsv`, and shown below: \n",
    "\n",
    "```\n",
    "samples.tsv:\n",
    "\n",
    "|sampleID|treatment|species  |strain  |\n",
    "|--------|---------|---------|--------|\n",
    "|ContTia1|ContTia  |coluzzii |Tiassale|\n",
    "|ContTia2|ContTia  |coluzzii |Tiassale|\n",
    "|ContTia4|ContTia  |coluzzii |Tiassale|\n",
    "|MalaTia1|MalaTia  |coluzzii |Tiassale|\n",
    "|MalaTia2|MalaTia  |coluzzii |Tiassale|\n",
    "|MalaTia4|MalaTia  |coluzzii |Tiassale|\n",
    "\n",
    "```\n",
    "\n",
    "In the `config.yaml`, we will use the treatment column to specify our comparative groups for analysis.\n",
    "\n",
    "\n",
    "If the strain information is not relevant to your study organism, please use the same values as for species. The strain column is used to define smaller groups within the data for principal components analysis (PCA), and is useful when analysing datasets with multiple strains.\n",
    "\n",
    "--- \n",
    "\n",
    "\n",
    "**Paired-end RNA-Sequencing fastq reads**\n",
    "\n",
    "Two gzipped fastq files for each sample are required, corresponding to the forward and reverse read. Reads can be already trimmed or RNA-Seq-Pop can trim them, using the cutadapt module.\n",
    "\n",
    "The read location may be specified in two ways:  \n",
    "\n",
    "1. Reads can be named as `{sampleID}_1.fastq.gz , {sampleID}_2.fastq.gz` and stored in `resources/reads/`. In the config.yaml, `fastq['auto'] == True`.\n",
    "\n",
    "   \n",
    "2. The user can add \"fq1\" and \"fq2\" columns to the `samples.tsv` metadata file, containing the path to each fastq file from the root rna-seq-pop directory. This means the fastq files can be stored anywhere accessible and have arbitrary naming. In the config.yaml, this option is  `fastq['auto'] == False`.\n",
    "\n",
    "---\n",
    "\n",
    "**Reference genome files**\n",
    "\n",
    "RNA-Seq-Pop uses kallisto to perform differential expression analysis, which takes as input a reference transcriptome. The user must provide a fasta file containing the transcriptome sequence in fasta format. For variant calling, genome alignment is performed with hisat2, which requires a fasta file containing the genome sequence. All input `.fa` files can be gzipped `.fa.gz`. \n",
    "\n",
    "The user provides the path to the reference files in the configuration file (`config.yaml`).\n",
    "\n",
    "1. **Genome chromosomes reference file (.fa/.fa.gz)**. Contains the DNA sequence for the genome.\n",
    "2. **Transcriptome reference file (.fa/fa.gz)**. Contains the DNA sequence for each transcript.\n",
    "3. **Genome feature file (.gff3 format)**. \n",
    "4. **Genes to Transcript mapping file (.tsv)**. An example is provided in the github repo (`resources/exampleGene2TranscriptMap.tsv`). This should contain four columns, GeneID, TranscriptID, GeneName, and GeneDescription, and is necessary for connecting transcripts to their parent genes, as well as adding gene annotations to results.\n",
    "   \n",
    "5. **SnpEff database name** (if performing variant calling).\n",
    "\n",
    "---\n",
    "\n",
    "**Contigs**\n",
    "\n",
    "The user must provide a list of contigs that they wish to analyse in the configuration file (`config.yaml`). These must match entries in the reference files (.fa, gff3). \n",
    "\n",
    "For example, in *An. gambiae*, we refer to the chromosomes as [\"2L\", \"2R\", \"3L\", \"3R\", \"X\"], though in Aedes aegypti, its simply [\"1\", \"2\", \"3\"].\n",
    "\n",
    "\n",
    "We specify contigs explicitly because in some reference assemblies we have a few large full chromosomes, plus hundreds of small contigs, which we may not necessarily wish to analyse."
   ]
  }
 ],
 "metadata": {
  "kernelspec": {
   "display_name": "Python 3.6.9 64-bit",
   "language": "python",
   "name": "python3"
  },
  "language_info": {
   "codemirror_mode": {
    "name": "ipython",
    "version": 3
   },
   "file_extension": ".py",
   "mimetype": "text/x-python",
   "name": "python",
   "nbconvert_exporter": "python",
   "pygments_lexer": "ipython3",
   "version": "3.6.9"
  },
  "vscode": {
   "interpreter": {
    "hash": "31f2aee4e71d21fbe5cf8b01ff0e069b9275f58929596ceb00d14d90e3e16cd6"
   }
  }
 },
 "nbformat": 4,
 "nbformat_minor": 5
}
