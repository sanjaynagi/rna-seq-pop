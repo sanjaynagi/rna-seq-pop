{
 "cells": [
  {
   "cell_type": "markdown",
   "id": "2122a2e4",
   "metadata": {},
   "source": [
    "# Troubleshooting\n",
    "\n",
    "If you run into a problem or find a bug in the workflow, please raise an issue to the [issue tracker](https://github.com/sanjaynagi/rna-seq-pop/issues). \n",
    "\n",
    "If its not for a bug, but for general help and guidance, you may also [email](mailto:sanjay.c.nagi@gmail.com) me directly, or consider joining the [discord server](https://discord.gg/RaXjP8APCq)."
   ]
  }
 ],
 "metadata": {
  "kernelspec": {
   "display_name": "Python 3 (ipykernel)",
   "language": "python",
   "name": "python3"
  },
  "language_info": {
   "codemirror_mode": {
    "name": "ipython",
    "version": 3
   },
   "file_extension": ".py",
   "mimetype": "text/x-python",
   "name": "python",
   "nbconvert_exporter": "python",
   "pygments_lexer": "ipython3",
   "version": "3.7.13"
  }
 },
 "nbformat": 4,
 "nbformat_minor": 5
}
