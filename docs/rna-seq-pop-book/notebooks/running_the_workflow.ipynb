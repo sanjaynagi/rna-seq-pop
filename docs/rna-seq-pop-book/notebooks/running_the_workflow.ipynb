{
 "cells": [
  {
   "cell_type": "markdown",
   "id": "55847f27",
   "metadata": {},
   "source": [
    "# Running the workflow\n",
    "\n",
    "Once your data is set up, perform a dry run of snakemake to see which rules and modules the workflow is configured to run. A dry-run does not actually run the workflow, but determines and prints to screen what will be run based on your configuration file and the current set of results.\n",
    "\n",
    "`-n` indicates a dry run.\n",
    "\n",
    "`snakemake --cores 4 --use-conda -n `\n",
    "\n",
    "To run the workflow on 4 cores. Conda will install all necessary packages.\n",
    "\n",
    "`snakemake --cores 4 --use-conda`\n",
    "\n",
    "If you wish to override using the standard `config/config.yaml` path, you can provide a config file at the command line as follows.\n",
    "\n",
    "`snakemake --cores 4 --use-conda --configfile myconfig.yaml`\n",
    "\n",
    "If you wish to check that RNA-Seq-Pop is configured correctly prior to running it on your dataset, you can run RNA-Seq-Pop on the test dataset. To do so, use the following command from the root directory:\n",
    "\n",
    "`snakemake --cores 4 --directory .test/ --use-conda `"
   ]
  }
 ],
 "metadata": {
  "kernelspec": {
   "display_name": "Python 3 (ipykernel)",
   "language": "python",
   "name": "python3"
  },
  "language_info": {
   "codemirror_mode": {
    "name": "ipython",
    "version": 3
   },
   "file_extension": ".py",
   "mimetype": "text/x-python",
   "name": "python",
   "nbconvert_exporter": "python",
   "pygments_lexer": "ipython3",
   "version": "3.7.13"
  }
 },
 "nbformat": 4,
 "nbformat_minor": 5
}
