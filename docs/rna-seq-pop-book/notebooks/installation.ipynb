{
 "cells": [
  {
   "cell_type": "markdown",
   "id": "f364096b",
   "metadata": {},
   "source": [
    "# Installation\n",
    "\n",
    "RNA-Seq-Pop does not require installation, however, users must have [snakemake](https://snakemake.readthedocs.io/) and [conda](https://conda.io/) installed in order to run the workflow.\n",
    "\n",
    "**Conda**\n",
    "\n",
    "Conda is an open-source package management system, which allows users to install a variety of packages and programs whilst managing software environments and dependencies. In general, we recommend using the miniconda installation.\n",
    "\n",
    "https://conda.io/projects/conda/en/latest/user-guide/install/index.html \n",
    "\n",
    "**Snakemake**\n",
    "\n",
    "Snakemake is a workflow management system to create reproducible and scalable computational analyses. RNA-Seq-Pop is written in snakemake, which itself is python-based. The Snakemake authors encourage installation through conda. \n",
    "\n",
    "https://snakemake.readthedocs.io/en/stable/getting_started/installation.html\n",
    "\n",
    "---\n",
    "\n",
    "### *RNA-Seq-Pop*\n",
    "\n",
    "The next step is to clone the RNA-Seq-Pop github repository to your system. If you think you may want to contribute to RNA-Seq-Pop, you may wish to fork the repository to your github account prior to cloning. For more information, please the [docs on contributing](www.link.com). \n",
    "\n",
    "As the workflow contains submodules (compkaryo & mpileup2readcounts), we should use `git clone --recursive` to clone the repository.\n",
    "\n",
    "\n",
    "#### Installing dependencies\n",
    "\n",
    "When we run RNA-Seq-Pop, it is important to use the `--use-conda` directive - this will automatically install all necessary packages into isolated software environments, so we do not have to install any other dependencies."
   ]
  },
  {
   "cell_type": "code",
   "execution_count": null,
   "id": "f7392a87",
   "metadata": {},
   "outputs": [],
   "source": []
  }
 ],
 "metadata": {
  "kernelspec": {
   "display_name": "Python 3 (ipykernel)",
   "language": "python",
   "name": "python3"
  },
  "language_info": {
   "codemirror_mode": {
    "name": "ipython",
    "version": 3
   },
   "file_extension": ".py",
   "mimetype": "text/x-python",
   "name": "python",
   "nbconvert_exporter": "python",
   "pygments_lexer": "ipython3",
   "version": "3.7.13"
  }
 },
 "nbformat": 4,
 "nbformat_minor": 5
}
