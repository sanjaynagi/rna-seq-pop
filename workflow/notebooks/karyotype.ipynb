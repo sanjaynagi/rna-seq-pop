{
 "cells": [
  {
   "cell_type": "code",
   "execution_count": 1,
   "id": "ea04b0af",
   "metadata": {
    "tags": [
     "remove-input"
    ]
   },
   "outputs": [],
   "source": [
    "#!/usr/bin/env python3\n",
    "\n",
    "\"\"\"\n",
    "Plots Karyotype data\n",
    "\"\"\"\n",
    "import sys\n",
    "sys.path.insert(1, 'workflow/scripts/')\n",
    "sys.path.insert(2, '../../workflow/scripts/')\n",
    "\n",
    "import rnaseqpoptools as rnaseqpop\n",
    "import plotly.express as px\n",
    "import pandas as pd \n",
    "\n",
    "import allel\n",
    "import numpy as np"
   ]
  },
  {
   "cell_type": "code",
   "execution_count": 5,
   "id": "fe571f38",
   "metadata": {
    "tags": [
     "parameters",
     "remove-input"
    ]
   },
   "outputs": [],
   "source": [
    "# Read in parameters from snakemake\n",
    "ploidy = 10\n",
    "config_path = \"../../config/config.yaml\"\n",
    "dataset = \"Ag_Busia\"\n",
    "metadata_path = \"../../config/samples.tsv\"\n",
    "tag_snp_path = \"../../resources/karyotype_tag_snps.csv\"\n",
    "wkdir = \"../..\"\n",
    "contig_r = \"2R\"\n",
    "contig_l = \"2L\"\n",
    "inversions = ['2La']\n"
   ]
  },
  {
   "cell_type": "code",
   "execution_count": null,
   "id": "3f567b53",
   "metadata": {},
   "outputs": [],
   "source": [
    "df_tag_snps = pd.read_csv(tag_snp_path, sep=\",\")\n",
    "df_tag_snps.head()"
   ]
  },
  {
   "cell_type": "code",
   "execution_count": 7,
   "id": "2dc20146",
   "metadata": {
    "scrolled": false,
    "tags": [
     "remove-input"
    ]
   },
   "outputs": [],
   "source": [
    "import yaml\n",
    "with open(config_path) as params_file:\n",
    "    config_params = yaml.safe_load(params_file)\n",
    "\n",
    "selected_invs = config_params['VariantAnalysis']['karyotype']['inversions']\n",
    "selected_invs = ['2La', '2Rb']\n",
    "\n",
    "metadata = rnaseqpop.load_metadata(metadata_path)\n",
    "metadata = metadata.sort_values(by='species')"
   ]
  },
  {
   "cell_type": "code",
   "execution_count": 8,
   "id": "3333bea4",
   "metadata": {},
   "outputs": [],
   "source": [
    "def _karyotype_tags_n_alt(gt, alts, inversion_alts):\n",
    "    n_sites = gt.shape[0]\n",
    "    n_samples = gt.shape[1]\n",
    "\n",
    "    # create empty array\n",
    "    inv_n_alt = np.empty((n_sites, n_samples), dtype=np.int8)\n",
    "\n",
    "    # for every site\n",
    "    for i in range(n_sites):\n",
    "        # find the index of the correct tag snp allele\n",
    "        if all(alts[i] != inversion_alts[i]):\n",
    "            inv_n_alt[i, :] = 0\n",
    "        else:\n",
    "            tagsnp_index = np.where(alts[i] == inversion_alts[i])[0] + 1\n",
    "\n",
    "        for j in range(n_samples):\n",
    "            # count alleles which == tag snp allele and store\n",
    "            n_tag_alleles = np.sum(gt[i, j] == tagsnp_index[0])\n",
    "            inv_n_alt[i, j] = n_tag_alleles\n",
    "\n",
    "    return inv_n_alt"
   ]
  },
  {
   "cell_type": "code",
   "execution_count": null,
   "id": "12312d02",
   "metadata": {},
   "outputs": [],
   "source": [
    "inv_dict = {contig_l:[\"2La\"], contig_r:['2Rb', '2Rc_gam', '2Rc_col', '2Rd', '2Rj']}\n",
    "\n",
    "dfs = []\n",
    "for contig, invs in inv_dict.items():\n",
    "\n",
    "    if not np.any([i in invs for i in selected_invs]):\n",
    "        continue         \n",
    "\n",
    "    vcf, geno, ac_subpops, pos, alts, depth, snpeff, subpops, samples = rnaseqpop.readAndFilterVcf(f\"{wkdir}/results/variantAnalysis/vcfs/{dataset}.{contig}.vcf.gz\",\n",
    "                                contig, \n",
    "                                samples=metadata, \n",
    "                                ploidy=ploidy,\n",
    "                                )\n",
    "    \n",
    "    for inversion in invs:\n",
    "\n",
    "        if inversion in selected_invs:\n",
    "\n",
    "            df_tag_snps_inv = df_tag_snps.query(\"inversion == @inversion\")\n",
    "            inversion_pos = df_tag_snps_inv.position\n",
    "            inversion_alts = df_tag_snps_inv.alt_allele.to_numpy()\n",
    "\n",
    "            # subset to position of inversion tags\n",
    "            mask, mask2 = pos.locate_intersection(inversion_pos)\n",
    "            tag_alts = inversion_alts[mask2]\n",
    "            alts_inv_rna = alts[mask]\n",
    "            gn = geno.compress(mask, axis=0)\n",
    "\n",
    "            # infer karyotype\n",
    "            gn_alt = _karyotype_tags_n_alt(\n",
    "                gt=gn, alts=alts_inv_rna, inversion_alts=tag_alts\n",
    "            )\n",
    "            is_called = gn.is_called()\n",
    "\n",
    "            # calculate mean genotype for each sample whilst masking missing calls\n",
    "            av_gts = np.mean(np.ma.MaskedArray(gn_alt, mask=~is_called), axis=0)\n",
    "            total_sites = np.sum(is_called, axis=0)\n",
    "\n",
    "            df = pd.DataFrame(\n",
    "                {\n",
    "                    \"sample_id\": samples,\n",
    "                    \"inversion\": inversion,\n",
    "                    f\"karyotype_{inversion}_mean\": av_gts.round(2),\n",
    "                    f\"karyotype_{inversion}_freq\": (av_gts / ploidy).round(2),\n",
    "                    f\"karyotype_{inversion}_n_tag_snps\": total_sites,\n",
    "                },\n",
    "                    )\n",
    "            dfs.append(df.set_index('sample_id'))"
   ]
  },
  {
   "cell_type": "code",
   "execution_count": null,
   "id": "9dc70b28",
   "metadata": {},
   "outputs": [],
   "source": [
    "df_karyo = pd.concat(dfs, axis=1).filter(like=\"karyo\")\n",
    "df_karyo = df_karyo.sort_values('sample_id')\n",
    "df_karyo.to_csv(f\"{wkdir}/results/karyotype/karyotypes.tsv\", sep=\"\\t\")\n",
    "df_karyo"
   ]
  },
  {
   "cell_type": "markdown",
   "id": "acf6a3e0",
   "metadata": {},
   "source": [
    "### Karyotyping\n",
    "\n",
    "**Output Directory:** <span style=\"color:gray;font-weight:bold\">*results/karyotype/*</span>\n",
    "\n",
    "**Rules**  \n",
    "\n",
    "<span style=\"color:gray;font-weight:bold\">\n",
    "    \n",
    "* *variantAnalysis.smk*\n",
    "    * Karyotype  \n",
    "    \n",
    "</span> \n",
    "\n",
    "\n",
    "**Introduction** \n",
    "\n",
    "Chromosomal inversions are a type of structural variation in which a segment of a chromosome is inverted relative to the normal ancestral arrangement. In *Anopheles gambiae*, chromosomal inversions have been extensively studied due to their role in the evolution and adaptation of the species. These inversions limit recombination in heterokaryotypic individuals, and so can act as barriers to gene flow between opposing karyotypes. The 2La inversion, which is approximately 21Mb long, has been associated with aridity tolerance, *Plasmodium* infection and insecticide resistance. Because the 2La inversion predates the speciation of the gambiae complex, it is the biggest driver of population structure within its breakpoints.\n",
    "\n",
    "In *RNA-Seq-Pop*, we can estimate the frequency of chromosomal inversions in our samples, using [compkaryo](https://github.com/rrlove/compkaryo) and karyotype-tagging SNPs. These are SNPs which reside within the inversion breakpoints, and show fixed differences between karyotypes, indicating which karyotype a sample contains.\n",
    "\n",
    "**Results**"
   ]
  },
  {
   "cell_type": "code",
   "execution_count": null,
   "id": "87b3bb2c",
   "metadata": {},
   "outputs": [],
   "source": [
    "import plotly.graph_objects as go\n",
    "\n",
    "df = df_karyo.filter(like=\"freq\")\n",
    "\n",
    "\n",
    "fig = px.imshow(\n",
    "    df,\n",
    "    color_continuous_scale=\"OrRd\",\n",
    "    aspect=\"auto\",\n",
    "    text_auto=True,\n",
    "    zmin=0,\n",
    "    zmax=1,\n",
    "    width=200 + (df.shape[1] * 150),\n",
    "    title=f\"{dataset} karyotype frequencies\", \n",
    ")\n",
    "fig.update(layout_coloraxis_showscale=False)\n",
    "#fig.write_image(f\"{wkdir}/results/karyotype/karyotype_heatmap.png\", scale=2)\n",
    "fig.show()"
   ]
  }
 ],
 "metadata": {
  "celltoolbar": "Tags",
  "kernelspec": {
   "display_name": "base",
   "language": "python",
   "name": "python3"
  },
  "language_info": {
   "codemirror_mode": {
    "name": "ipython",
    "version": 3
   },
   "file_extension": ".py",
   "mimetype": "text/x-python",
   "name": "python",
   "nbconvert_exporter": "python",
   "pygments_lexer": "ipython3",
   "version": "3.11.6"
  }
 },
 "nbformat": 4,
 "nbformat_minor": 5
}
