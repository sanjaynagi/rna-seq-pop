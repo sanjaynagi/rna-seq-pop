{
 "cells": [
  {
   "cell_type": "code",
   "execution_count": 6,
   "id": "ea04b0af",
   "metadata": {
    "tags": [
     "remove-input"
    ]
   },
   "outputs": [],
   "source": [
    "#!/usr/bin/env python3\n",
    "\n",
    "\"\"\"\n",
    "Plots Karyotype data\n",
    "\"\"\"\n",
    "import sys\n",
    "sys.path.insert(1, 'workflow/scripts/')\n",
    "sys.path.insert(2, '../../workflow/scripts/')\n",
    "\n",
    "import rnaseqpoptools as rnaseqpop\n",
    "import plotly.express as px\n",
    "import pandas as pd \n",
    "\n",
    "import allel\n",
    "import numpy as np"
   ]
  },
  {
   "cell_type": "code",
   "execution_count": 7,
   "id": "fe571f38",
   "metadata": {
    "tags": [
     "parameters",
     "remove-input"
    ]
   },
   "outputs": [],
   "source": [
    "# Read in parameters from snakemake\n",
    "ploidy = 10\n",
    "config_path = \"../../config/config.yaml\"\n",
    "dataset = \"Ag_Busia\"\n",
    "metadata_path = \"../../config/samples_oldnames.tsv\"\n",
    "tag_snp_path = \"../../resources/karyotype_tag_snps.csv\"\n",
    "wkdir = \"../..\"\n",
    "contig_r = \"2R\"\n",
    "contig_l = \"2L\"\n",
    "inversions = ['2La']\n"
   ]
  },
  {
   "cell_type": "code",
   "execution_count": 8,
   "id": "3f567b53",
   "metadata": {},
   "outputs": [
    {
     "data": {
      "text/html": [
       "<div>\n",
       "<style scoped>\n",
       "    .dataframe tbody tr th:only-of-type {\n",
       "        vertical-align: middle;\n",
       "    }\n",
       "\n",
       "    .dataframe tbody tr th {\n",
       "        vertical-align: top;\n",
       "    }\n",
       "\n",
       "    .dataframe thead th {\n",
       "        text-align: right;\n",
       "    }\n",
       "</style>\n",
       "<table border=\"1\" class=\"dataframe\">\n",
       "  <thead>\n",
       "    <tr style=\"text-align: right;\">\n",
       "      <th></th>\n",
       "      <th>inversion</th>\n",
       "      <th>contig</th>\n",
       "      <th>position</th>\n",
       "      <th>alt_allele</th>\n",
       "    </tr>\n",
       "  </thead>\n",
       "  <tbody>\n",
       "    <tr>\n",
       "      <th>0</th>\n",
       "      <td>2La</td>\n",
       "      <td>2L</td>\n",
       "      <td>20528221</td>\n",
       "      <td>T</td>\n",
       "    </tr>\n",
       "    <tr>\n",
       "      <th>1</th>\n",
       "      <td>2La</td>\n",
       "      <td>2L</td>\n",
       "      <td>20542311</td>\n",
       "      <td>A</td>\n",
       "    </tr>\n",
       "    <tr>\n",
       "      <th>2</th>\n",
       "      <td>2La</td>\n",
       "      <td>2L</td>\n",
       "      <td>20542372</td>\n",
       "      <td>T</td>\n",
       "    </tr>\n",
       "    <tr>\n",
       "      <th>3</th>\n",
       "      <td>2La</td>\n",
       "      <td>2L</td>\n",
       "      <td>20542904</td>\n",
       "      <td>T</td>\n",
       "    </tr>\n",
       "    <tr>\n",
       "      <th>4</th>\n",
       "      <td>2La</td>\n",
       "      <td>2L</td>\n",
       "      <td>20546192</td>\n",
       "      <td>A</td>\n",
       "    </tr>\n",
       "  </tbody>\n",
       "</table>\n",
       "</div>"
      ],
      "text/plain": [
       "  inversion contig  position alt_allele\n",
       "0       2La     2L  20528221          T\n",
       "1       2La     2L  20542311          A\n",
       "2       2La     2L  20542372          T\n",
       "3       2La     2L  20542904          T\n",
       "4       2La     2L  20546192          A"
      ]
     },
     "execution_count": 8,
     "metadata": {},
     "output_type": "execute_result"
    }
   ],
   "source": [
    "df_tag_snps = pd.read_csv(tag_snp_path, sep=\",\")\n",
    "df_tag_snps.head()"
   ]
  },
  {
   "cell_type": "code",
   "execution_count": 9,
   "id": "2dc20146",
   "metadata": {
    "scrolled": false,
    "tags": [
     "remove-input"
    ]
   },
   "outputs": [],
   "source": [
    "import yaml\n",
    "with open(config_path) as params_file:\n",
    "    config_params = yaml.safe_load(params_file)\n",
    "\n",
    "selected_invs = config_params['VariantAnalysis']['karyotype']['inversions']\n",
    "selected_invs = ['2La', '2Rb']\n",
    "\n",
    "metadata = rnaseqpop.load_metadata(metadata_path)\n",
    "metadata = metadata.sort_values(by='species')"
   ]
  },
  {
   "cell_type": "code",
   "execution_count": 10,
   "id": "3333bea4",
   "metadata": {},
   "outputs": [],
   "source": [
    "def _karyotype_tags_n_alt(gt, alts, inversion_alts):\n",
    "    n_sites = gt.shape[0]\n",
    "    n_samples = gt.shape[1]\n",
    "\n",
    "    # create empty array\n",
    "    inv_n_alt = np.empty((n_sites, n_samples), dtype=np.int8)\n",
    "\n",
    "    # for every site\n",
    "    for i in range(n_sites):\n",
    "        # find the index of the correct tag snp allele\n",
    "        if all(alts[i] != inversion_alts[i]):\n",
    "            inv_n_alt[i, :] = 0\n",
    "        else:\n",
    "            tagsnp_index = np.where(alts[i] == inversion_alts[i])[0] + 1\n",
    "\n",
    "        for j in range(n_samples):\n",
    "            # count alleles which == tag snp allele and store\n",
    "            n_tag_alleles = np.sum(gt[i, j] == tagsnp_index[0])\n",
    "            inv_n_alt[i, j] = n_tag_alleles\n",
    "\n",
    "    return inv_n_alt"
   ]
  },
  {
   "cell_type": "code",
   "execution_count": 11,
   "id": "12312d02",
   "metadata": {},
   "outputs": [
    {
     "name": "stdout",
     "output_type": "stream",
     "text": [
      "\n",
      "-------------- Reading VCF for chromosome 2L --------------\n",
      "------- Filtering VCF at QUAL=30 and missingness proportion of 0.6 -------\n",
      "QUAL filter will retain 322603 SNPs retained out of 396426 for chromosome 2L\n",
      "Missingness filter will retain 295851 SNPs out of 396426 for chromosome 2L\n",
      "The combined filter will retain 229853 SNPs out of 396426 for chromosome 2L\n",
      "\n",
      "-------------- Reading VCF for chromosome 2R --------------\n",
      "------- Filtering VCF at QUAL=30 and missingness proportion of 0.6 -------\n",
      "QUAL filter will retain 437795 SNPs retained out of 533960 for chromosome 2R\n",
      "Missingness filter will retain 404904 SNPs out of 533960 for chromosome 2R\n",
      "The combined filter will retain 318011 SNPs out of 533960 for chromosome 2R\n"
     ]
    }
   ],
   "source": [
    "inv_dict = {contig_l:[\"2La\"], contig_r:['2Rb', '2Rc_gam', '2Rc_col', '2Rd', '2Rj']}\n",
    "\n",
    "dfs = []\n",
    "for contig, invs in inv_dict.items():\n",
    "\n",
    "    if not np.any([i in invs for i in selected_invs]):\n",
    "        continue         \n",
    "\n",
    "    vcf, geno, ac_subpops, pos, alts, depth, snpeff, subpops, samples = rnaseqpop.readAndFilterVcf(f\"../../results/variantAnalysis/vcfs/{dataset}.{contig}.vcf.gz\",\n",
    "                                contig, \n",
    "                                samples=metadata, \n",
    "                                ploidy=ploidy,\n",
    "                                )\n",
    "    \n",
    "\n",
    "    for inversion in invs:\n",
    "\n",
    "        if inversion in selected_invs:\n",
    "\n",
    "            df_tag_snps_inv = df_tag_snps.query(\"inversion == @inversion\")\n",
    "            inversion_pos = df_tag_snps_inv.position\n",
    "            inversion_alts = df_tag_snps_inv.alt_allele.to_numpy()\n",
    "\n",
    "            # subset to position of inversion tags\n",
    "            mask, mask2 = pos.locate_intersection(inversion_pos)\n",
    "            tag_alts = inversion_alts[mask2]\n",
    "            alts_inv_rna = alts[mask]\n",
    "            gn = geno.compress(mask, axis=0)\n",
    "\n",
    "            # infer karyotype\n",
    "            gn_alt = _karyotype_tags_n_alt(\n",
    "                gt=gn, alts=alts_inv_rna, inversion_alts=tag_alts\n",
    "            )\n",
    "            is_called = gn.is_called()\n",
    "\n",
    "            # calculate mean genotype for each sample whilst masking missing calls\n",
    "            av_gts = np.mean(np.ma.MaskedArray(gn_alt, mask=~is_called), axis=0)\n",
    "            total_sites = np.sum(is_called, axis=0)\n",
    "\n",
    "            df = pd.DataFrame(\n",
    "                {\n",
    "                    \"sample_id\": samples,\n",
    "                    \"inversion\": inversion,\n",
    "                    f\"karyotype_{inversion}_mean\": av_gts.round(2),\n",
    "                    f\"karyotype_{inversion}_freq\": (av_gts / ploidy).round(2),\n",
    "                    f\"karyotype_{inversion}_n_tag_snps\": total_sites,\n",
    "                },\n",
    "                    )\n",
    "            dfs.append(df.set_index('sample_id'))"
   ]
  },
  {
   "cell_type": "code",
   "execution_count": 12,
   "id": "9dc70b28",
   "metadata": {},
   "outputs": [
    {
     "data": {
      "text/html": [
       "<div>\n",
       "<style scoped>\n",
       "    .dataframe tbody tr th:only-of-type {\n",
       "        vertical-align: middle;\n",
       "    }\n",
       "\n",
       "    .dataframe tbody tr th {\n",
       "        vertical-align: top;\n",
       "    }\n",
       "\n",
       "    .dataframe thead th {\n",
       "        text-align: right;\n",
       "    }\n",
       "</style>\n",
       "<table border=\"1\" class=\"dataframe\">\n",
       "  <thead>\n",
       "    <tr style=\"text-align: right;\">\n",
       "      <th></th>\n",
       "      <th>karyotype_2La_mean</th>\n",
       "      <th>karyotype_2La_freq</th>\n",
       "      <th>karyotype_2La_n_tag_snps</th>\n",
       "      <th>karyotype_2Rb_mean</th>\n",
       "      <th>karyotype_2Rb_freq</th>\n",
       "      <th>karyotype_2Rb_n_tag_snps</th>\n",
       "    </tr>\n",
       "    <tr>\n",
       "      <th>sample_id</th>\n",
       "      <th></th>\n",
       "      <th></th>\n",
       "      <th></th>\n",
       "      <th></th>\n",
       "      <th></th>\n",
       "      <th></th>\n",
       "    </tr>\n",
       "  </thead>\n",
       "  <tbody>\n",
       "    <tr>\n",
       "      <th>BusiaParental1</th>\n",
       "      <td>3.41</td>\n",
       "      <td>0.34</td>\n",
       "      <td>27</td>\n",
       "      <td>0.66</td>\n",
       "      <td>0.07</td>\n",
       "      <td>44</td>\n",
       "    </tr>\n",
       "    <tr>\n",
       "      <th>BusiaParental2</th>\n",
       "      <td>2.52</td>\n",
       "      <td>0.25</td>\n",
       "      <td>27</td>\n",
       "      <td>0.41</td>\n",
       "      <td>0.04</td>\n",
       "      <td>44</td>\n",
       "    </tr>\n",
       "    <tr>\n",
       "      <th>BusiaParental3</th>\n",
       "      <td>3.58</td>\n",
       "      <td>0.36</td>\n",
       "      <td>26</td>\n",
       "      <td>0.51</td>\n",
       "      <td>0.05</td>\n",
       "      <td>43</td>\n",
       "    </tr>\n",
       "    <tr>\n",
       "      <th>BusiaParental4</th>\n",
       "      <td>2.42</td>\n",
       "      <td>0.24</td>\n",
       "      <td>26</td>\n",
       "      <td>1.07</td>\n",
       "      <td>0.11</td>\n",
       "      <td>42</td>\n",
       "    </tr>\n",
       "    <tr>\n",
       "      <th>BusiaParental5</th>\n",
       "      <td>4.52</td>\n",
       "      <td>0.45</td>\n",
       "      <td>27</td>\n",
       "      <td>0.70</td>\n",
       "      <td>0.07</td>\n",
       "      <td>43</td>\n",
       "    </tr>\n",
       "    <tr>\n",
       "      <th>BusiaParental6</th>\n",
       "      <td>4.30</td>\n",
       "      <td>0.43</td>\n",
       "      <td>27</td>\n",
       "      <td>0.34</td>\n",
       "      <td>0.03</td>\n",
       "      <td>44</td>\n",
       "    </tr>\n",
       "    <tr>\n",
       "      <th>BusiaSelected1</th>\n",
       "      <td>10.00</td>\n",
       "      <td>1.00</td>\n",
       "      <td>26</td>\n",
       "      <td>0.49</td>\n",
       "      <td>0.05</td>\n",
       "      <td>43</td>\n",
       "    </tr>\n",
       "    <tr>\n",
       "      <th>BusiaSelected2</th>\n",
       "      <td>10.00</td>\n",
       "      <td>1.00</td>\n",
       "      <td>27</td>\n",
       "      <td>0.36</td>\n",
       "      <td>0.04</td>\n",
       "      <td>44</td>\n",
       "    </tr>\n",
       "    <tr>\n",
       "      <th>BusiaSelected3</th>\n",
       "      <td>7.31</td>\n",
       "      <td>0.73</td>\n",
       "      <td>26</td>\n",
       "      <td>0.74</td>\n",
       "      <td>0.07</td>\n",
       "      <td>43</td>\n",
       "    </tr>\n",
       "    <tr>\n",
       "      <th>BusiaSelected4</th>\n",
       "      <td>10.00</td>\n",
       "      <td>1.00</td>\n",
       "      <td>22</td>\n",
       "      <td>0.84</td>\n",
       "      <td>0.08</td>\n",
       "      <td>44</td>\n",
       "    </tr>\n",
       "    <tr>\n",
       "      <th>BusiaSelected5</th>\n",
       "      <td>7.68</td>\n",
       "      <td>0.77</td>\n",
       "      <td>25</td>\n",
       "      <td>0.33</td>\n",
       "      <td>0.03</td>\n",
       "      <td>42</td>\n",
       "    </tr>\n",
       "    <tr>\n",
       "      <th>BusiaSelected6</th>\n",
       "      <td>7.38</td>\n",
       "      <td>0.74</td>\n",
       "      <td>26</td>\n",
       "      <td>0.47</td>\n",
       "      <td>0.05</td>\n",
       "      <td>43</td>\n",
       "    </tr>\n",
       "    <tr>\n",
       "      <th>Kisumu1</th>\n",
       "      <td>0.54</td>\n",
       "      <td>0.05</td>\n",
       "      <td>26</td>\n",
       "      <td>1.43</td>\n",
       "      <td>0.14</td>\n",
       "      <td>44</td>\n",
       "    </tr>\n",
       "    <tr>\n",
       "      <th>Kisumu2</th>\n",
       "      <td>2.24</td>\n",
       "      <td>0.22</td>\n",
       "      <td>25</td>\n",
       "      <td>2.14</td>\n",
       "      <td>0.21</td>\n",
       "      <td>42</td>\n",
       "    </tr>\n",
       "    <tr>\n",
       "      <th>Kisumu3</th>\n",
       "      <td>1.24</td>\n",
       "      <td>0.12</td>\n",
       "      <td>25</td>\n",
       "      <td>2.70</td>\n",
       "      <td>0.27</td>\n",
       "      <td>44</td>\n",
       "    </tr>\n",
       "    <tr>\n",
       "      <th>Kisumu4</th>\n",
       "      <td>3.33</td>\n",
       "      <td>0.33</td>\n",
       "      <td>27</td>\n",
       "      <td>3.10</td>\n",
       "      <td>0.31</td>\n",
       "      <td>42</td>\n",
       "    </tr>\n",
       "  </tbody>\n",
       "</table>\n",
       "</div>"
      ],
      "text/plain": [
       "                karyotype_2La_mean  karyotype_2La_freq  \\\n",
       "sample_id                                                \n",
       "BusiaParental1                3.41                0.34   \n",
       "BusiaParental2                2.52                0.25   \n",
       "BusiaParental3                3.58                0.36   \n",
       "BusiaParental4                2.42                0.24   \n",
       "BusiaParental5                4.52                0.45   \n",
       "BusiaParental6                4.30                0.43   \n",
       "BusiaSelected1               10.00                1.00   \n",
       "BusiaSelected2               10.00                1.00   \n",
       "BusiaSelected3                7.31                0.73   \n",
       "BusiaSelected4               10.00                1.00   \n",
       "BusiaSelected5                7.68                0.77   \n",
       "BusiaSelected6                7.38                0.74   \n",
       "Kisumu1                       0.54                0.05   \n",
       "Kisumu2                       2.24                0.22   \n",
       "Kisumu3                       1.24                0.12   \n",
       "Kisumu4                       3.33                0.33   \n",
       "\n",
       "                karyotype_2La_n_tag_snps  karyotype_2Rb_mean  \\\n",
       "sample_id                                                      \n",
       "BusiaParental1                        27                0.66   \n",
       "BusiaParental2                        27                0.41   \n",
       "BusiaParental3                        26                0.51   \n",
       "BusiaParental4                        26                1.07   \n",
       "BusiaParental5                        27                0.70   \n",
       "BusiaParental6                        27                0.34   \n",
       "BusiaSelected1                        26                0.49   \n",
       "BusiaSelected2                        27                0.36   \n",
       "BusiaSelected3                        26                0.74   \n",
       "BusiaSelected4                        22                0.84   \n",
       "BusiaSelected5                        25                0.33   \n",
       "BusiaSelected6                        26                0.47   \n",
       "Kisumu1                               26                1.43   \n",
       "Kisumu2                               25                2.14   \n",
       "Kisumu3                               25                2.70   \n",
       "Kisumu4                               27                3.10   \n",
       "\n",
       "                karyotype_2Rb_freq  karyotype_2Rb_n_tag_snps  \n",
       "sample_id                                                     \n",
       "BusiaParental1                0.07                        44  \n",
       "BusiaParental2                0.04                        44  \n",
       "BusiaParental3                0.05                        43  \n",
       "BusiaParental4                0.11                        42  \n",
       "BusiaParental5                0.07                        43  \n",
       "BusiaParental6                0.03                        44  \n",
       "BusiaSelected1                0.05                        43  \n",
       "BusiaSelected2                0.04                        44  \n",
       "BusiaSelected3                0.07                        43  \n",
       "BusiaSelected4                0.08                        44  \n",
       "BusiaSelected5                0.03                        42  \n",
       "BusiaSelected6                0.05                        43  \n",
       "Kisumu1                       0.14                        44  \n",
       "Kisumu2                       0.21                        42  \n",
       "Kisumu3                       0.27                        44  \n",
       "Kisumu4                       0.31                        42  "
      ]
     },
     "execution_count": 12,
     "metadata": {},
     "output_type": "execute_result"
    }
   ],
   "source": [
    "df_karyo = pd.concat(dfs, axis=1).filter(like=\"karyo\")\n",
    "df_karyo = df_karyo.sort_values('sample_id')\n",
    "df_karyo.to_csv(f\"{wkdir}/results/karyotype/karyotypes.tsv\", sep=\"\\t\")\n",
    "df_karyo"
   ]
  },
  {
   "cell_type": "code",
   "execution_count": null,
   "id": "0fdb0ed8",
   "metadata": {},
   "outputs": [],
   "source": [
    "df."
   ]
  },
  {
   "cell_type": "code",
   "execution_count": 40,
   "id": "7035703d",
   "metadata": {},
   "outputs": [
    {
     "data": {
      "text/plain": [
       "600"
      ]
     },
     "execution_count": 40,
     "metadata": {},
     "output_type": "execute_result"
    }
   ],
   "source": [
    "df.shape[1] * 300"
   ]
  },
  {
   "cell_type": "markdown",
   "id": "acf6a3e0",
   "metadata": {},
   "source": [
    "### Karyotyping\n",
    "\n",
    "**Output Directory:** <span style=\"color:gray;font-weight:bold\">*results/karyotype/*</span>\n",
    "\n",
    "**Rules**  \n",
    "\n",
    "<span style=\"color:gray;font-weight:bold\">\n",
    "    \n",
    "* *variantAnalysis.smk*\n",
    "    * Karyotype  \n",
    "    \n",
    "</span> \n",
    "\n",
    "\n",
    "**Introduction** \n",
    "\n",
    "Chromosomal inversions are a type of structural variation in which a segment of a chromosome is inverted relative to the normal ancestral arrangement. In *Anopheles gambiae*, chromosomal inversions have been extensively studied due to their role in the evolution and adaptation of the species. These inversions limit recombination in heterokaryotypic individuals, and so can act as barriers to gene flow between opposing karyotypes. The 2La inversion, which is approximately 21Mb long, has been associated with aridity tolerance, *Plasmodium* infection and insecticide resistance. Because the 2La inversion predates the speciation of the gambiae complex, it is the biggest driver of population structure within its breakpoints.\n",
    "\n",
    "In *RNA-Seq-Pop*, we can estimate the frequency of chromosomal inversions in our samples, using [compkaryo](https://github.com/rrlove/compkaryo) and karyotype-tagging SNPs. These are SNPs which reside within the inversion breakpoints, and show fixed differences between karyotypes, indicating which karyotype a sample contains.\n",
    "\n",
    "**Results**"
   ]
  },
  {
   "cell_type": "code",
   "execution_count": 45,
   "id": "87b3bb2c",
   "metadata": {},
   "outputs": [
    {
     "data": {
      "application/vnd.plotly.v1+json": {
       "config": {
        "plotlyServerURL": "https://plot.ly"
       },
       "data": [
        {
         "coloraxis": "coloraxis",
         "hovertemplate": "x: %{x}<br>sample_id: %{y}<br>color: %{z}<extra></extra>",
         "name": "0",
         "texttemplate": "%{z}",
         "type": "heatmap",
         "x": [
          "karyotype_2La_freq",
          "karyotype_2Rb_freq"
         ],
         "xaxis": "x",
         "y": [
          "BusiaParental1",
          "BusiaParental2",
          "BusiaParental3",
          "BusiaParental4",
          "BusiaParental5",
          "BusiaParental6",
          "BusiaSelected1",
          "BusiaSelected2",
          "BusiaSelected3",
          "BusiaSelected4",
          "BusiaSelected5",
          "BusiaSelected6",
          "Kisumu1",
          "Kisumu2",
          "Kisumu3",
          "Kisumu4"
         ],
         "yaxis": "y",
         "z": [
          [
           0.34,
           0.07
          ],
          [
           0.25,
           0.04
          ],
          [
           0.36,
           0.05
          ],
          [
           0.24,
           0.11
          ],
          [
           0.45,
           0.07
          ],
          [
           0.43,
           0.03
          ],
          [
           1,
           0.05
          ],
          [
           1,
           0.04
          ],
          [
           0.73,
           0.07
          ],
          [
           1,
           0.08
          ],
          [
           0.77,
           0.03
          ],
          [
           0.74,
           0.05
          ],
          [
           0.05,
           0.14
          ],
          [
           0.22,
           0.21
          ],
          [
           0.12,
           0.27
          ],
          [
           0.33,
           0.31
          ]
         ]
        }
       ],
       "layout": {
        "coloraxis": {
         "cmax": 1,
         "cmin": 0,
         "colorscale": [
          [
           0,
           "rgb(255,247,236)"
          ],
          [
           0.125,
           "rgb(254,232,200)"
          ],
          [
           0.25,
           "rgb(253,212,158)"
          ],
          [
           0.375,
           "rgb(253,187,132)"
          ],
          [
           0.5,
           "rgb(252,141,89)"
          ],
          [
           0.625,
           "rgb(239,101,72)"
          ],
          [
           0.75,
           "rgb(215,48,31)"
          ],
          [
           0.875,
           "rgb(179,0,0)"
          ],
          [
           1,
           "rgb(127,0,0)"
          ]
         ],
         "showscale": false
        },
        "template": {
         "data": {
          "bar": [
           {
            "error_x": {
             "color": "#2a3f5f"
            },
            "error_y": {
             "color": "#2a3f5f"
            },
            "marker": {
             "line": {
              "color": "#E5ECF6",
              "width": 0.5
             },
             "pattern": {
              "fillmode": "overlay",
              "size": 10,
              "solidity": 0.2
             }
            },
            "type": "bar"
           }
          ],
          "barpolar": [
           {
            "marker": {
             "line": {
              "color": "#E5ECF6",
              "width": 0.5
             },
             "pattern": {
              "fillmode": "overlay",
              "size": 10,
              "solidity": 0.2
             }
            },
            "type": "barpolar"
           }
          ],
          "carpet": [
           {
            "aaxis": {
             "endlinecolor": "#2a3f5f",
             "gridcolor": "white",
             "linecolor": "white",
             "minorgridcolor": "white",
             "startlinecolor": "#2a3f5f"
            },
            "baxis": {
             "endlinecolor": "#2a3f5f",
             "gridcolor": "white",
             "linecolor": "white",
             "minorgridcolor": "white",
             "startlinecolor": "#2a3f5f"
            },
            "type": "carpet"
           }
          ],
          "choropleth": [
           {
            "colorbar": {
             "outlinewidth": 0,
             "ticks": ""
            },
            "type": "choropleth"
           }
          ],
          "contour": [
           {
            "colorbar": {
             "outlinewidth": 0,
             "ticks": ""
            },
            "colorscale": [
             [
              0,
              "#0d0887"
             ],
             [
              0.1111111111111111,
              "#46039f"
             ],
             [
              0.2222222222222222,
              "#7201a8"
             ],
             [
              0.3333333333333333,
              "#9c179e"
             ],
             [
              0.4444444444444444,
              "#bd3786"
             ],
             [
              0.5555555555555556,
              "#d8576b"
             ],
             [
              0.6666666666666666,
              "#ed7953"
             ],
             [
              0.7777777777777778,
              "#fb9f3a"
             ],
             [
              0.8888888888888888,
              "#fdca26"
             ],
             [
              1,
              "#f0f921"
             ]
            ],
            "type": "contour"
           }
          ],
          "contourcarpet": [
           {
            "colorbar": {
             "outlinewidth": 0,
             "ticks": ""
            },
            "type": "contourcarpet"
           }
          ],
          "heatmap": [
           {
            "colorbar": {
             "outlinewidth": 0,
             "ticks": ""
            },
            "colorscale": [
             [
              0,
              "#0d0887"
             ],
             [
              0.1111111111111111,
              "#46039f"
             ],
             [
              0.2222222222222222,
              "#7201a8"
             ],
             [
              0.3333333333333333,
              "#9c179e"
             ],
             [
              0.4444444444444444,
              "#bd3786"
             ],
             [
              0.5555555555555556,
              "#d8576b"
             ],
             [
              0.6666666666666666,
              "#ed7953"
             ],
             [
              0.7777777777777778,
              "#fb9f3a"
             ],
             [
              0.8888888888888888,
              "#fdca26"
             ],
             [
              1,
              "#f0f921"
             ]
            ],
            "type": "heatmap"
           }
          ],
          "heatmapgl": [
           {
            "colorbar": {
             "outlinewidth": 0,
             "ticks": ""
            },
            "colorscale": [
             [
              0,
              "#0d0887"
             ],
             [
              0.1111111111111111,
              "#46039f"
             ],
             [
              0.2222222222222222,
              "#7201a8"
             ],
             [
              0.3333333333333333,
              "#9c179e"
             ],
             [
              0.4444444444444444,
              "#bd3786"
             ],
             [
              0.5555555555555556,
              "#d8576b"
             ],
             [
              0.6666666666666666,
              "#ed7953"
             ],
             [
              0.7777777777777778,
              "#fb9f3a"
             ],
             [
              0.8888888888888888,
              "#fdca26"
             ],
             [
              1,
              "#f0f921"
             ]
            ],
            "type": "heatmapgl"
           }
          ],
          "histogram": [
           {
            "marker": {
             "pattern": {
              "fillmode": "overlay",
              "size": 10,
              "solidity": 0.2
             }
            },
            "type": "histogram"
           }
          ],
          "histogram2d": [
           {
            "colorbar": {
             "outlinewidth": 0,
             "ticks": ""
            },
            "colorscale": [
             [
              0,
              "#0d0887"
             ],
             [
              0.1111111111111111,
              "#46039f"
             ],
             [
              0.2222222222222222,
              "#7201a8"
             ],
             [
              0.3333333333333333,
              "#9c179e"
             ],
             [
              0.4444444444444444,
              "#bd3786"
             ],
             [
              0.5555555555555556,
              "#d8576b"
             ],
             [
              0.6666666666666666,
              "#ed7953"
             ],
             [
              0.7777777777777778,
              "#fb9f3a"
             ],
             [
              0.8888888888888888,
              "#fdca26"
             ],
             [
              1,
              "#f0f921"
             ]
            ],
            "type": "histogram2d"
           }
          ],
          "histogram2dcontour": [
           {
            "colorbar": {
             "outlinewidth": 0,
             "ticks": ""
            },
            "colorscale": [
             [
              0,
              "#0d0887"
             ],
             [
              0.1111111111111111,
              "#46039f"
             ],
             [
              0.2222222222222222,
              "#7201a8"
             ],
             [
              0.3333333333333333,
              "#9c179e"
             ],
             [
              0.4444444444444444,
              "#bd3786"
             ],
             [
              0.5555555555555556,
              "#d8576b"
             ],
             [
              0.6666666666666666,
              "#ed7953"
             ],
             [
              0.7777777777777778,
              "#fb9f3a"
             ],
             [
              0.8888888888888888,
              "#fdca26"
             ],
             [
              1,
              "#f0f921"
             ]
            ],
            "type": "histogram2dcontour"
           }
          ],
          "mesh3d": [
           {
            "colorbar": {
             "outlinewidth": 0,
             "ticks": ""
            },
            "type": "mesh3d"
           }
          ],
          "parcoords": [
           {
            "line": {
             "colorbar": {
              "outlinewidth": 0,
              "ticks": ""
             }
            },
            "type": "parcoords"
           }
          ],
          "pie": [
           {
            "automargin": true,
            "type": "pie"
           }
          ],
          "scatter": [
           {
            "fillpattern": {
             "fillmode": "overlay",
             "size": 10,
             "solidity": 0.2
            },
            "type": "scatter"
           }
          ],
          "scatter3d": [
           {
            "line": {
             "colorbar": {
              "outlinewidth": 0,
              "ticks": ""
             }
            },
            "marker": {
             "colorbar": {
              "outlinewidth": 0,
              "ticks": ""
             }
            },
            "type": "scatter3d"
           }
          ],
          "scattercarpet": [
           {
            "marker": {
             "colorbar": {
              "outlinewidth": 0,
              "ticks": ""
             }
            },
            "type": "scattercarpet"
           }
          ],
          "scattergeo": [
           {
            "marker": {
             "colorbar": {
              "outlinewidth": 0,
              "ticks": ""
             }
            },
            "type": "scattergeo"
           }
          ],
          "scattergl": [
           {
            "marker": {
             "colorbar": {
              "outlinewidth": 0,
              "ticks": ""
             }
            },
            "type": "scattergl"
           }
          ],
          "scattermapbox": [
           {
            "marker": {
             "colorbar": {
              "outlinewidth": 0,
              "ticks": ""
             }
            },
            "type": "scattermapbox"
           }
          ],
          "scatterpolar": [
           {
            "marker": {
             "colorbar": {
              "outlinewidth": 0,
              "ticks": ""
             }
            },
            "type": "scatterpolar"
           }
          ],
          "scatterpolargl": [
           {
            "marker": {
             "colorbar": {
              "outlinewidth": 0,
              "ticks": ""
             }
            },
            "type": "scatterpolargl"
           }
          ],
          "scatterternary": [
           {
            "marker": {
             "colorbar": {
              "outlinewidth": 0,
              "ticks": ""
             }
            },
            "type": "scatterternary"
           }
          ],
          "surface": [
           {
            "colorbar": {
             "outlinewidth": 0,
             "ticks": ""
            },
            "colorscale": [
             [
              0,
              "#0d0887"
             ],
             [
              0.1111111111111111,
              "#46039f"
             ],
             [
              0.2222222222222222,
              "#7201a8"
             ],
             [
              0.3333333333333333,
              "#9c179e"
             ],
             [
              0.4444444444444444,
              "#bd3786"
             ],
             [
              0.5555555555555556,
              "#d8576b"
             ],
             [
              0.6666666666666666,
              "#ed7953"
             ],
             [
              0.7777777777777778,
              "#fb9f3a"
             ],
             [
              0.8888888888888888,
              "#fdca26"
             ],
             [
              1,
              "#f0f921"
             ]
            ],
            "type": "surface"
           }
          ],
          "table": [
           {
            "cells": {
             "fill": {
              "color": "#EBF0F8"
             },
             "line": {
              "color": "white"
             }
            },
            "header": {
             "fill": {
              "color": "#C8D4E3"
             },
             "line": {
              "color": "white"
             }
            },
            "type": "table"
           }
          ]
         },
         "layout": {
          "annotationdefaults": {
           "arrowcolor": "#2a3f5f",
           "arrowhead": 0,
           "arrowwidth": 1
          },
          "autotypenumbers": "strict",
          "coloraxis": {
           "colorbar": {
            "outlinewidth": 0,
            "ticks": ""
           }
          },
          "colorscale": {
           "diverging": [
            [
             0,
             "#8e0152"
            ],
            [
             0.1,
             "#c51b7d"
            ],
            [
             0.2,
             "#de77ae"
            ],
            [
             0.3,
             "#f1b6da"
            ],
            [
             0.4,
             "#fde0ef"
            ],
            [
             0.5,
             "#f7f7f7"
            ],
            [
             0.6,
             "#e6f5d0"
            ],
            [
             0.7,
             "#b8e186"
            ],
            [
             0.8,
             "#7fbc41"
            ],
            [
             0.9,
             "#4d9221"
            ],
            [
             1,
             "#276419"
            ]
           ],
           "sequential": [
            [
             0,
             "#0d0887"
            ],
            [
             0.1111111111111111,
             "#46039f"
            ],
            [
             0.2222222222222222,
             "#7201a8"
            ],
            [
             0.3333333333333333,
             "#9c179e"
            ],
            [
             0.4444444444444444,
             "#bd3786"
            ],
            [
             0.5555555555555556,
             "#d8576b"
            ],
            [
             0.6666666666666666,
             "#ed7953"
            ],
            [
             0.7777777777777778,
             "#fb9f3a"
            ],
            [
             0.8888888888888888,
             "#fdca26"
            ],
            [
             1,
             "#f0f921"
            ]
           ],
           "sequentialminus": [
            [
             0,
             "#0d0887"
            ],
            [
             0.1111111111111111,
             "#46039f"
            ],
            [
             0.2222222222222222,
             "#7201a8"
            ],
            [
             0.3333333333333333,
             "#9c179e"
            ],
            [
             0.4444444444444444,
             "#bd3786"
            ],
            [
             0.5555555555555556,
             "#d8576b"
            ],
            [
             0.6666666666666666,
             "#ed7953"
            ],
            [
             0.7777777777777778,
             "#fb9f3a"
            ],
            [
             0.8888888888888888,
             "#fdca26"
            ],
            [
             1,
             "#f0f921"
            ]
           ]
          },
          "colorway": [
           "#636efa",
           "#EF553B",
           "#00cc96",
           "#ab63fa",
           "#FFA15A",
           "#19d3f3",
           "#FF6692",
           "#B6E880",
           "#FF97FF",
           "#FECB52"
          ],
          "font": {
           "color": "#2a3f5f"
          },
          "geo": {
           "bgcolor": "white",
           "lakecolor": "white",
           "landcolor": "#E5ECF6",
           "showlakes": true,
           "showland": true,
           "subunitcolor": "white"
          },
          "hoverlabel": {
           "align": "left"
          },
          "hovermode": "closest",
          "mapbox": {
           "style": "light"
          },
          "paper_bgcolor": "white",
          "plot_bgcolor": "#E5ECF6",
          "polar": {
           "angularaxis": {
            "gridcolor": "white",
            "linecolor": "white",
            "ticks": ""
           },
           "bgcolor": "#E5ECF6",
           "radialaxis": {
            "gridcolor": "white",
            "linecolor": "white",
            "ticks": ""
           }
          },
          "scene": {
           "xaxis": {
            "backgroundcolor": "#E5ECF6",
            "gridcolor": "white",
            "gridwidth": 2,
            "linecolor": "white",
            "showbackground": true,
            "ticks": "",
            "zerolinecolor": "white"
           },
           "yaxis": {
            "backgroundcolor": "#E5ECF6",
            "gridcolor": "white",
            "gridwidth": 2,
            "linecolor": "white",
            "showbackground": true,
            "ticks": "",
            "zerolinecolor": "white"
           },
           "zaxis": {
            "backgroundcolor": "#E5ECF6",
            "gridcolor": "white",
            "gridwidth": 2,
            "linecolor": "white",
            "showbackground": true,
            "ticks": "",
            "zerolinecolor": "white"
           }
          },
          "shapedefaults": {
           "line": {
            "color": "#2a3f5f"
           }
          },
          "ternary": {
           "aaxis": {
            "gridcolor": "white",
            "linecolor": "white",
            "ticks": ""
           },
           "baxis": {
            "gridcolor": "white",
            "linecolor": "white",
            "ticks": ""
           },
           "bgcolor": "#E5ECF6",
           "caxis": {
            "gridcolor": "white",
            "linecolor": "white",
            "ticks": ""
           }
          },
          "title": {
           "x": 0.05
          },
          "xaxis": {
           "automargin": true,
           "gridcolor": "white",
           "linecolor": "white",
           "ticks": "",
           "title": {
            "standoff": 15
           },
           "zerolinecolor": "white",
           "zerolinewidth": 2
          },
          "yaxis": {
           "automargin": true,
           "gridcolor": "white",
           "linecolor": "white",
           "ticks": "",
           "title": {
            "standoff": 15
           },
           "zerolinecolor": "white",
           "zerolinewidth": 2
          }
         }
        },
        "title": {
         "text": "Ag_Busia karyotype frequencies"
        },
        "width": 500,
        "xaxis": {
         "anchor": "y",
         "domain": [
          0,
          1
         ]
        },
        "yaxis": {
         "anchor": "x",
         "autorange": "reversed",
         "domain": [
          0,
          1
         ],
         "title": {
          "text": "sample_id"
         }
        }
       }
      }
     },
     "metadata": {},
     "output_type": "display_data"
    }
   ],
   "source": [
    "import plotly.graph_objects as go\n",
    "\n",
    "df = df_karyo.filter(like=\"freq\")\n",
    "\n",
    "\n",
    "fig = px.imshow(\n",
    "    df,\n",
    "    color_continuous_scale=\"OrRd\",\n",
    "    aspect=\"auto\",\n",
    "    text_auto=True,\n",
    "    zmin=0,\n",
    "    zmax=1,\n",
    "    width=200 + (df.shape[1] * 150),\n",
    "    title=f\"{dataset} karyotype frequencies\", \n",
    ")\n",
    "fig.update(layout_coloraxis_showscale=False)\n",
    "fig.write_image(f\"{wkdir}/results/karyotype/karyotype_heatmap.png\", scale=2)\n",
    "fig.show()"
   ]
  }
 ],
 "metadata": {
  "celltoolbar": "Tags",
  "kernelspec": {
   "display_name": "Python 3",
   "language": "python",
   "name": "python3"
  },
  "language_info": {
   "codemirror_mode": {
    "name": "ipython",
    "version": 3
   },
   "file_extension": ".py",
   "mimetype": "text/x-python",
   "name": "python",
   "nbconvert_exporter": "python",
   "pygments_lexer": "ipython3",
   "version": "3.10.12"
  }
 },
 "nbformat": 4,
 "nbformat_minor": 5
}
