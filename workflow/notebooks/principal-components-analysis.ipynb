{
 "cells": [
  {
   "cell_type": "code",
   "execution_count": null,
   "id": "ea04b0af",
   "metadata": {
    "tags": [
     "remove-input"
    ]
   },
   "outputs": [],
   "source": [
    "#!/usr/bin/env python3\n",
    "\n",
    "\"\"\"\n",
    "A script to perform PCA on the genotype data\n",
    "\"\"\"\n",
    "import sys\n",
    "sys.path.insert(1, 'workflow/scripts/')\n",
    "sys.path.insert(2, '../workflow/scripts/')\n",
    "import rnaseqpoptools as rnaseqpop\n",
    "import pandas as pd \n",
    "import plotly.express as px\n",
    "import numpy as np"
   ]
  },
  {
   "cell_type": "code",
   "execution_count": null,
   "id": "fe571f38",
   "metadata": {
    "tags": [
     "parameters",
     "remove-input"
    ]
   },
   "outputs": [],
   "source": [
    "# Read in parameters from snakemake\n",
    "dataset = \"\"\n",
    "metadata_path = \"\"\n",
    "config_path = \"config/config.yaml\"\n",
    "ploidy = \"\"\n",
    "qualflt = \"\"\n",
    "missingprop = \"\""
   ]
  },
  {
   "cell_type": "code",
   "execution_count": null,
   "id": "2dc20146",
   "metadata": {
    "tags": [
     "remove-input",
     "remove-output"
    ]
   },
   "outputs": [],
   "source": [
    "metadata = rnaseqpop.load_metadata(metadata_path)\n",
    "metadata = metadata.sort_values(by='species')\n",
    "numbers = rnaseqpop.get_numbers_dict(ploidy)\n",
    "\n",
    "import yaml\n",
    "with open(config_path) as params_file:\n",
    "    config_params = yaml.safe_load(params_file)\n",
    "\n",
    "contigs = config_params[\"contigs\"]\n",
    "\n",
    "for i, contig in enumerate(contigs):\n",
    "    \n",
    "    # Read in and Filter VCF\n",
    "    path = f\"results/variantAnalysis/vcfs/{dataset}.{contig}.vcf.gz\"\n",
    "    vcf, geno, acsubpops, pos, alts, depth, snpeff, subpops, populations = rnaseqpop.readAndFilterVcf(path=path,\n",
    "                                                           contig=contig,\n",
    "                                                           samples=metadata,\n",
    "                                                           ploidy=ploidy,\n",
    "                                                           qualflt=qualflt,\n",
    "                                                           missingfltprop=missingprop)\n",
    "    \n",
    "\n",
    "    #### Principal Components Analysis (PCA) ####\n",
    "    # Set up dict to store indices for colours\n",
    "    d={}\n",
    "    for name, inds in subpops.items():\n",
    "        for n in range(len(inds)):\n",
    "            p = inds[n]\n",
    "            d[p] = name\n",
    "\n",
    "    # Store dict as a dataframe and get colours \n",
    "    treatment_indices = pd.DataFrame.from_dict(d, orient='index').reset_index()\n",
    "    treatment_indices = treatment_indices.rename(columns = {'index':'sample_index', 0:\"name\"})\n",
    "    pop_colours = rnaseqpop.get_colour_dict(treatment_indices['name'], \"viridis\")\n",
    "    \n",
    "    # Run PCA function defined in tools.py\n",
    "    print(f\"Performing PCA on {dataset} chromosome {contig}\")\n",
    "    coords, model = rnaseqpop.pca(geno, contig, ploidy, dataset, populations, metadata, pop_colours, prune=True, scaler=None)\n",
    "    pca_df = pd.concat([metadata, coords], axis=1)"
   ]
  },
  {
   "cell_type": "markdown",
   "id": "57edb39a",
   "metadata": {},
   "source": [
    "# Principal components analysis\n",
    "\n",
    "PCA, or Principal Component Analysis, is a technique used in data analysis to simplify and reveal patterns in high-dimensional data. It does this by transforming the original data into a new coordinate system, where the first axis (principal component) captures the most significant variation in the data, the second axis captures the second most significant variation, and so on. By reducing the dimensionality of the data, researchers can identify population structure and relationships between samples, helping them understand how populations are related and how they have evolved over time.\n",
    "\n",
    "### Variance explained\n",
    "\n",
    "As a general rule of thumb, when the variance explained for each PC begins to flatten out, that is when the PCs are no longer informative."
   ]
  },
  {
   "cell_type": "code",
   "execution_count": null,
   "id": "ced8c5e9",
   "metadata": {
    "tags": [
     "remove-input"
    ]
   },
   "outputs": [],
   "source": [
    "fig = px.bar(model.explained_variance_ratio_ , labels={\n",
    "                     \"value\": \"Variance Explained\",\n",
    "                     \"index\": \"Principal Component\",\n",
    "                 }, template='simple_white')\n",
    "fig.update_layout(showlegend=False)\n",
    "\n",
    "fig"
   ]
  },
  {
   "cell_type": "markdown",
   "id": "f5ffa604",
   "metadata": {},
   "source": [
    "### PC1 v PC2"
   ]
  },
  {
   "cell_type": "code",
   "execution_count": null,
   "id": "30693bf9",
   "metadata": {
    "tags": [
     "remove-input"
    ]
   },
   "outputs": [],
   "source": [
    "fig = px.scatter(\n",
    "    pca_df, \n",
    "    x='PC1', \n",
    "    y='PC2', \n",
    "    title=f\"PCA {dataset} | PC1 vs PC2\", \n",
    "    color='treatment', \n",
    "    hover_data=pca_df.columns, \n",
    "    template='simple_white'\n",
    ")\n",
    "\n",
    "fig"
   ]
  },
  {
   "cell_type": "markdown",
   "id": "2c5e3c59",
   "metadata": {},
   "source": [
    "### PC3 v PC4"
   ]
  },
  {
   "cell_type": "code",
   "execution_count": null,
   "id": "43a42380",
   "metadata": {
    "tags": [
     "remove-input"
    ]
   },
   "outputs": [],
   "source": [
    "fig = px.scatter(\n",
    "    pca_df, \n",
    "    x='PC3', \n",
    "    y='PC4', \n",
    "    title=f\"PCA {dataset} | PC3 vs PC4\", \n",
    "    color='treatment', \n",
    "    hover_data=pca_df.columns, \n",
    "    template='simple_white'\n",
    ")\n",
    "\n",
    "fig"
   ]
  }
 ],
 "metadata": {
  "celltoolbar": "Tags",
  "kernelspec": {
   "display_name": "Python 3 (ipykernel)",
   "language": "python",
   "name": "python3"
  },
  "language_info": {
   "codemirror_mode": {
    "name": "ipython",
    "version": 3
   },
   "file_extension": ".py",
   "mimetype": "text/x-python",
   "name": "python",
   "nbconvert_exporter": "python",
   "pygments_lexer": "ipython3",
   "version": "3.10.10"
  }
 },
 "nbformat": 4,
 "nbformat_minor": 5
}
