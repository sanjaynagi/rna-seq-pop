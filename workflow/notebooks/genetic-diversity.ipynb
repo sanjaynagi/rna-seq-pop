{
 "cells": [
  {
   "cell_type": "code",
   "execution_count": null,
   "id": "c46e6df3",
   "metadata": {
    "tags": [
     "remove-input"
    ]
   },
   "outputs": [],
   "source": [
    "#!/usr/bin/env python3\n",
    "\n",
    "\"\"\"\n",
    "A script to calculate various SNP statistics, windowed population genetic statistics (Fst, PBS) and PCA.\n",
    "Currently not modularised further to reduce the repetition of loading and filtering VCFs (which is slow). \n",
    "\"\"\"\n",
    "import sys\n",
    "sys.path.insert(1, 'workflow/scripts/')\n",
    "sys.path.insert(2, '../workflow/scripts/')\n",
    "import rnaseqpoptools as rnaseqpop\n",
    "\n",
    "import pandas as pd\n",
    "import numpy as np\n",
    "import allel\n",
    "from collections import defaultdict"
   ]
  },
  {
   "cell_type": "code",
   "execution_count": null,
   "id": "19848336",
   "metadata": {
    "tags": [
     "parameters",
     "remove-input"
    ]
   },
   "outputs": [],
   "source": [
    "# Read in parameters from snakemake\n",
    "dataset = \"Ag_Busia\"\n",
    "metadata_path = \"../../config/samples_oldnames.tsv\"\n",
    "ploidy = 10\n",
    "config_path = \"../../config/config.yaml\"\n",
    "qualflt = 30\n",
    "missingprop = 0.8"
   ]
  },
  {
   "cell_type": "code",
   "execution_count": null,
   "id": "b84047bb",
   "metadata": {
    "tags": [
     "remove-input",
     "remove-output"
    ]
   },
   "outputs": [],
   "source": [
    "metadata = rnaseqpop.load_metadata(metadata_path)\n",
    "metadata = metadata.sort_values(by='species')\n",
    "numbers = rnaseqpop.get_numbers_dict(ploidy)\n",
    "\n",
    "import yaml\n",
    "with open(config_path) as params_file:\n",
    "    config_params = yaml.safe_load(params_file)\n",
    "\n",
    "contigs = config_params[\"contigs\"]\n",
    "\n",
    "# Initialise dicts to store genetic diversity statistic\n",
    "pi = {}\n",
    "theta = {}\n",
    "coefdictchrom= {}\n",
    "\n",
    "for i, contig in enumerate(contigs):\n",
    "    # Read in and Filter VCF\n",
    "    path = f\"results/variantAnalysis/vcfs/{dataset}.{contig}.vcf.gz\"\n",
    "    vcf, geno, acsubpops, pos, alts, depth, snpeff, subpops, populations = rnaseqpop.readAndFilterVcf(path=path,\n",
    "                                                           contig=contig,\n",
    "                                                           samples=metadata,\n",
    "                                                           ploidy=ploidy,\n",
    "                                                           qualflt=qualflt,\n",
    "                                                           missingfltprop=missingprop)\n",
    "\n",
    "\n",
    "    # Genome-wide statistics (Pi, Wattersons Theta, inbreeding coefficient)\n",
    "    pi[contig] = rnaseqpop.windowedDiversity(geno=geno, pos=pos, subpops=subpops, statistic='pi', window_size=20_000)\n",
    "    theta[contig] = rnaseqpop.windowedDiversity(geno=geno, pos=pos, subpops=subpops, statistic='theta', window_size=20_000)    \n",
    "    \n",
    "    coefdict= {}\n",
    "    allcoef = defaultdict(list)\n",
    "    for pop in metadata['treatment'].unique():\n",
    "        # Inbreeding coefficient\n",
    "        if ploidy > 1:\n",
    "            gn = geno.take(subpops[pop], axis=1)\n",
    "            coef = allel.moving_statistic(gn, statistic=allel.inbreeding_coefficient, size=1000, step=100)\n",
    "            coef = np.nanmean(coef, axis=1)\n",
    "            coefdict[pop] = np.mean(coef)\n",
    "            allcoef[pop].append(np.array(coef))\n",
    "\n",
    "        if ploidy > 1: print(f\"{pop} | {contig} | Inbreeding Coef =\", np.mean(coef), \"\\n\")\n",
    "    if ploidy > 1: coefdictchrom[contig] = dict(coefdict)\n",
    "\n",
    "# Concat contigs, get CIs for Pi and Theta and save to file\n",
    "pi_df = rnaseqpop.diversity_ci_table(div_dict=pi, statistic='pi')\n",
    "pi_df.to_csv(\"results/variantAnalysis/diversity/SequenceDiversity.tsv\", sep=\"\\t\", index=True)\n",
    "theta_df = rnaseqpop.diversity_ci_table(div_dict=theta, statistic='theta')\n",
    "theta_df.to_csv(\"results/variantAnalysis/diversity/WattersonsTheta.tsv\", sep=\"\\t\", index=True)\n",
    "\n",
    "if ploidy > 1: coefdictchrom = rnaseqpop.flip_dict(coefdictchrom)\n",
    "if ploidy > 1: pd.DataFrame.from_dict(coefdictchrom).to_csv(\"results/variantAnalysis/diversity/inbreedingCoef.tsv\", sep=\"\\t\", index=True)\n",
    "# Get genome wide average stats\n",
    "if ploidy > 1:\n",
    "    for pop in allcoef.keys():\n",
    "        allcoef[pop] = np.nanmean(allcoef[pop])\n",
    "\n",
    "    coefdf = pd.DataFrame.from_dict(allcoef, orient='index', columns=['InbreedingCoefficient'])\n",
    "    coefdf.to_csv(f\"results/variantAnalysis/diversity/inbreedingCoef.mean.tsv\", sep=\"\\t\", index=True)"
   ]
  },
  {
   "cell_type": "markdown",
   "id": "22c5269e",
   "metadata": {},
   "source": [
    "# Genetic Diversity \n",
    "\n",
    "**Output Directory:** <span style=\"color:gray;font-weight:bold\">*results/variantAnalysis/diversity/*</span>\n",
    "\n",
    "**Rules**\n",
    "\n",
    "<span style=\"color:gray;font-weight:bold\">\n",
    "    \n",
    "* *variantAnalysis.smk*\n",
    "    * SummaryStatistics  \n",
    "\n",
    "</span>    \n",
    "    \n",
    "**Introduction** \n",
    "\n",
    "Genetic diversity is an important concept in population genetics, and it refers to the amount of genetic variation in a population. This variation can take many forms, including single nucleotide polymorphisms (SNPs), small insertions or deletions (INDELs), and larger structural changes and rearrangements. \n",
    "\n",
    "One measure of genetic diversity is nucleotide diversity (aka pi), which is a measure of the average number of nucleotide differences per site between two randomly chosen genomes within a population. Another measure is Watterson's theta, which is a measure of the average number of segregating sites within a population. These measures can provide valuable insights into the evolutionary history of a population.\n",
    "\n",
    "In RNA-Seq-Pop, we calculate genetic diversity from the called SNPs using [scikit-allel](https://scikit-allel.readthedocs.io/en/stable/). As indel calling is unreliable from RNA-Seq data, we filter out any indel calls prior to variant analysis. \n",
    "\n",
    "### Pi"
   ]
  },
  {
   "cell_type": "code",
   "execution_count": null,
   "id": "0dc54e82",
   "metadata": {
    "tags": [
     "remove-input"
    ]
   },
   "outputs": [],
   "source": [
    "pi_df"
   ]
  },
  {
   "cell_type": "markdown",
   "id": "fb11eabd",
   "metadata": {},
   "source": [
    "### Theta"
   ]
  },
  {
   "cell_type": "code",
   "execution_count": null,
   "id": "ee426f96",
   "metadata": {
    "tags": [
     "remove-input"
    ]
   },
   "outputs": [],
   "source": [
    "theta_df"
   ]
  }
 ],
 "metadata": {
  "celltoolbar": "Tags",
  "kernelspec": {
   "display_name": "Python 3 (ipykernel)",
   "language": "python",
   "name": "python3"
  },
  "language_info": {
   "codemirror_mode": {
    "name": "ipython",
    "version": 3
   },
   "file_extension": ".py",
   "mimetype": "text/x-python",
   "name": "python",
   "nbconvert_exporter": "python",
   "pygments_lexer": "ipython3",
   "version": "3.10.10"
  }
 },
 "nbformat": 4,
 "nbformat_minor": 5
}
