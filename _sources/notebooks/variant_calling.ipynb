{
 "cells": [
  {
   "cell_type": "markdown",
   "id": "bf0b78d9",
   "metadata": {},
   "source": [
    "### Variant calling\n",
    "\n",
    "**Output Directory:**  <span style=\"color:gray;font-weight:bold\">*results/variantAnalysis/vcfs/*</span>\n",
    "\n",
    "**Rules**\n",
    "\n",
    "<span style=\"color:gray;font-weight:bold\">\n",
    "\n",
    "* *variantCalling.smk*\n",
    "    * GenerateFreebayesParams\n",
    "    * VariantCallingFreebayes\n",
    "* *alignment.smk*\n",
    "    * HISAT2Align\n",
    "</span>\n",
    "\n",
    "**Introduction** \n",
    "\n",
    "An advantage of *RNA-Seq-Pop* is that it allows us to call genomic variants from RNA-Sequencing data. We use the variant caller freebayes. \n",
    "\n",
    "freebayes is a widely-used tool for calling genomic variants from next-generation sequencing data. It is a probabilistic variant caller, which means that it uses statistical models to estimate the likelihood that a given sequence represents a true variant, rather than a sequencing error or other type of noise. Although freebayes can be used to call both single nucleotide polymorphisms (SNPs) and insertions and deletions (indels), we filter out indel calls as they likely to be highly unreliable from RNA-Sequencing data. \n",
    "\n",
    "Given that we are calling SNPs from RNA-Sequencing data, we should not expect the called SNPs to be as accurate as those called from deeply sequenced whole-genome sequencing studies.\n",
    "\n",
    "\n",
    "**Results**"
   ]
  }
 ],
 "metadata": {
  "kernelspec": {
   "display_name": "Python 3 (ipykernel)",
   "language": "python",
   "name": "python3"
  },
  "language_info": {
   "codemirror_mode": {
    "name": "ipython",
    "version": 3
   },
   "file_extension": ".py",
   "mimetype": "text/x-python",
   "name": "python",
   "nbconvert_exporter": "python",
   "pygments_lexer": "ipython3",
   "version": "3.7.13"
  }
 },
 "nbformat": 4,
 "nbformat_minor": 5
}
