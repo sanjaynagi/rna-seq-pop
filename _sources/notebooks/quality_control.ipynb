{
 "cells": [
  {
   "cell_type": "markdown",
   "id": "a00d8e8a",
   "metadata": {},
   "source": [
    "### Quality control\n",
    "\n",
    "**Output Directory:**  <span style=\"color:gray;font-weight:bold\">*results/qc/*</span>\n",
    "\n",
    "**Rules**  \n",
    "\n",
    "<span style=\"color:gray;font-weight:bold\">\n",
    "\n",
    "* *qc.smk*\n",
    "    * CheckInputs\n",
    "    * cutAdapt\n",
    "    * FastQC\n",
    "    * BamStats\n",
    "    * Coverage\n",
    "    * vcfStats\n",
    "    * multiQC\n",
    "\n",
    "</span>\n",
    "\n",
    "**Introduction** \n",
    "\n",
    "Quality control (QC) is an important step in the analysis of RNA-seq data. RNA-seq is a powerful transcriptomic method, but the data generated can be noisy and subject to various sources of error. As a result, it is essential to perform QC on the raw data in order to identify and correct any problems that may affect downstream analysis. This typically involves calculating quality metrics to assess the quality of the reads and identify any potential issues in read mapping or variant calling.\n",
    "\n",
    "In *RNA-Seq-Pop*, we apply various tools to assess quality control metrics of the data. \n",
    "\n",
    "**Results**\n",
    "\n",
    "The workflow begins with a rule `checkInputs` to ensure that the entries in the config.yaml are valid."
   ]
  },
  {
   "cell_type": "code",
   "execution_count": null,
   "id": "18bde5cb",
   "metadata": {},
   "outputs": [],
   "source": []
  }
 ],
 "metadata": {
  "kernelspec": {
   "display_name": "Python 3 (ipykernel)",
   "language": "python",
   "name": "python3"
  },
  "language_info": {
   "codemirror_mode": {
    "name": "ipython",
    "version": 3
   },
   "file_extension": ".py",
   "mimetype": "text/x-python",
   "name": "python",
   "nbconvert_exporter": "python",
   "pygments_lexer": "ipython3",
   "version": "3.7.13"
  }
 },
 "nbformat": 4,
 "nbformat_minor": 5
}
