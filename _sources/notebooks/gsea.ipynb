{
 "cells": [
  {
   "cell_type": "markdown",
   "id": "a84549a8",
   "metadata": {},
   "source": [
    "### Gene set enrichment analysis \n",
    "\n",
    "**Output Directory:**  <span style=\"color:gray;font-weight:bold\">*results/gsea/*</span>\n",
    "\n",
    "**Rules**  \n",
    "\n",
    "<span style=\"color:gray;font-weight:bold\">\n",
    "\n",
    "* *diffexp.smk*\n",
    "    * GeneSetEnrichment\n",
    "\n",
    "</span>\n",
    "    \n",
    "**Introduction** \n",
    "\n",
    "Gene set enrichment analysis (GSEA) is a computational method used to identify and interpret patterns of gene expression in high-throughput data. It is often used to determine whether a particular group of genes is enriched for genes that are differentially expressed in a particular phenotype, such as insecticide resistance. GSEA helps researchers to identify pathways or biological processes that are associated with a particular condition, and can provide insight into the underlying mechanisms that drive the condition. GSEA is a powerful tool for uncovering new biological insights and can be used to guide further experimental research.\n",
    "\n",
    "In *RNA-Seq-Pop*, we can use GSEA to test whether specific gene ontology (GO) terms are enriched in our differential expression and Fst data. This requires a GO annotation file (.gaf) for your study organism, for vectors these can be located at [Vectorbase](https://vectorbase.org/vectorbase/app) under [data downloads](https://vectorbase.org/vectorbase/app/downloads/). \n",
    "\n",
    "\n",
    "**Results**"
   ]
  }
 ],
 "metadata": {
  "kernelspec": {
   "display_name": "Python 3 (ipykernel)",
   "language": "python",
   "name": "python3"
  },
  "language_info": {
   "codemirror_mode": {
    "name": "ipython",
    "version": 3
   },
   "file_extension": ".py",
   "mimetype": "text/x-python",
   "name": "python",
   "nbconvert_exporter": "python",
   "pygments_lexer": "ipython3",
   "version": "3.7.13"
  }
 },
 "nbformat": 4,
 "nbformat_minor": 5
}
