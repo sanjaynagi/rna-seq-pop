{
 "cells": [
  {
   "cell_type": "markdown",
   "id": "84d63861",
   "metadata": {},
   "source": [
    "### Variants of Interest \n",
    "\n",
    "**Output Directory:** <span style=\"color:gray;font-weight:bold\">*results/variantsOfInterest/*</span>  \n",
    "\n",
    "**Rules**\n",
    "\n",
    "<span style=\"color:gray;font-weight:bold\">\n",
    "\n",
    "* *VariantsOfInterest.smk*\n",
    "    * mpileupVariantsOfInterest\n",
    "    * AlleleBalanceVariantsOfInterest\n",
    "\n",
    "</span>\n",
    "    \n",
    "   \n",
    "**Introduction** \n",
    "\n",
    "In some biological systems, it may be useful to perform surveillance on mutations which we are interested in. For example, this could be to detect drug-resistance markers in *Plasmodium* parasites, or insecticide-resistance mutations in the malaria mosquito. \n",
    "\n",
    "If provided with a table of user-defined variants of interest, *RNA-Seq-Pop* can calculate allele frequencies at these sites from the aligned read data, and plot the results.\n",
    "\n",
    "\n",
    "**Results**"
   ]
  },
  {
   "cell_type": "code",
   "execution_count": null,
   "id": "7037f136",
   "metadata": {},
   "outputs": [],
   "source": []
  }
 ],
 "metadata": {
  "kernelspec": {
   "display_name": "Python 3 (ipykernel)",
   "language": "python",
   "name": "python3"
  },
  "language_info": {
   "codemirror_mode": {
    "name": "ipython",
    "version": 3
   },
   "file_extension": ".py",
   "mimetype": "text/x-python",
   "name": "python",
   "nbconvert_exporter": "python",
   "pygments_lexer": "ipython3",
   "version": "3.7.13"
  }
 },
 "nbformat": 4,
 "nbformat_minor": 5
}
