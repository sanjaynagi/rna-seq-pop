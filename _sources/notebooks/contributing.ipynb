{
 "cells": [
  {
   "cell_type": "markdown",
   "id": "cce4eedb",
   "metadata": {},
   "source": [
    "# Contributing to the workflow\n",
    "\n",
    "We massively encourage contributions to the workflow. We hope that with the feedback and contributions of the scientific community, we can improve RNA-Seq-Pop further, making it more comprehensive, robust, accessible and easy-to-use. \n",
    "\n",
    "If you have any feedback on how the workflow may be improved, please do get in touch by emailing or raising an [issue on github](https://github.com/sanjaynagi/rna-seq-pop/issues), or fork the github repository and create a pull request for any additional features you would like to implement.\n",
    "\n",
    "If you don't have any ideas but feel like contributing to the workflow, I will continue to raise future features or bugs in the [issues](https://github.com/sanjaynagi/rna-seq-pop/issues) page of the github repository, please leave a comment if you would like to work on any. \n",
    "\n",
    "#### Setup\n",
    "\n",
    "First fork to your own account, and then clone that repo.\n",
    "\n",
    "```\n",
    "git clone --recursive git@github.com:yourusername/rna-seq-pop.git\n",
    "```\n",
    "\n",
    "Make any changes to the workflow, commit and push them back to your local fork, and create a pull request. In case you are unfamiliar with this process, step-by-step tutorials on contributing to software can be found [online](https://www.youtube.com/watch?v=a_FLqX3vGR4). "
   ]
  }
 ],
 "metadata": {
  "kernelspec": {
   "display_name": "Python 3 (ipykernel)",
   "language": "python",
   "name": "python3"
  },
  "language_info": {
   "codemirror_mode": {
    "name": "ipython",
    "version": 3
   },
   "file_extension": ".py",
   "mimetype": "text/x-python",
   "name": "python",
   "nbconvert_exporter": "python",
   "pygments_lexer": "ipython3",
   "version": "3.7.13"
  },
  "vscode": {
   "interpreter": {
    "hash": "31f2aee4e71d21fbe5cf8b01ff0e069b9275f58929596ceb00d14d90e3e16cd6"
   }
  }
 },
 "nbformat": 4,
 "nbformat_minor": 5
}
