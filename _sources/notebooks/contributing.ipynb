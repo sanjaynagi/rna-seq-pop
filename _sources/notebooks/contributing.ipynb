{
 "cells": [
  {
   "cell_type": "markdown",
   "id": "cce4eedb",
   "metadata": {},
   "source": [
    "# Contributing to the workflow\n",
    "\n",
    "\n",
    "We encourage contributions to the workflow.\n",
    "\n",
    "If you have any feedback on how the workflow may be improved, please do get in touch by emailing or raising an [issue on github](https://github.com/sanjaynagi/rna-seq-pop/issues), or fork the github repository and create a pull request for any additional features you would like to implemenent.\n",
    "\n",
    "### Setup\n",
    "\n",
    "First fork to your own account, and then clone that repo.\n",
    "\n",
    "```\n",
    "git clone git@github.com:yourusername/rna-seq-pop.git\n",
    "```\n",
    "\n",
    "Make any changes to the workflow, commit and push them back to your local fork, and perform a pull request."
   ]
  },
  {
   "cell_type": "code",
   "execution_count": null,
   "id": "38997ae9",
   "metadata": {},
   "outputs": [],
   "source": []
  }
 ],
 "metadata": {
  "kernelspec": {
   "display_name": "Python 3 (ipykernel)",
   "language": "python",
   "name": "python3"
  },
  "language_info": {
   "codemirror_mode": {
    "name": "ipython",
    "version": 3
   },
   "file_extension": ".py",
   "mimetype": "text/x-python",
   "name": "python",
   "nbconvert_exporter": "python",
   "pygments_lexer": "ipython3",
   "version": "3.7.13"
  }
 },
 "nbformat": 4,
 "nbformat_minor": 5
}
