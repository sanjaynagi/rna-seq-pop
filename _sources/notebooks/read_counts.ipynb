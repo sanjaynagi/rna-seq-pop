{
 "cells": [
  {
   "cell_type": "markdown",
   "metadata": {},
   "source": [
    "### Read counts\n",
    "\n",
    "**Output Directory**  \n",
    "\n",
    "*rna-seq-pop/results/counts/*\n",
    "\n",
    "**Rules**  \n",
    "* *workflow/rules/alignment.smk*\n",
    "    * KallistoQuant  \n",
    "\n",
    "  \n",
    "\n",
    "* *workflow/rules/diffexp.smk*\n",
    "    * DifferentialGeneExpression\n",
    "    * DifferentialIsoformExpression\n",
    "\n",
    "**Introduction** \n",
    "\n",
    "Counting reads to genes is an important step in the analysis of RNA-seq data. The raw data from an RNA-seq experiment consists of millions of reads that are derived from the RNA molecules in the sample. In order to quantify gene expression, these reads must be mapped to the transcript from which they were derived, and the number of reads mapped to each transcript must be counted. This process, known as read counting, provides a measure of the abundance of each gene in each sample and can be used to identify differentially expressed genes and other interesting features of the data.\n",
    "\n",
    "In RNA-Seq-Pop we map reads directly to the transcriptome with [kallisto](https://pachterlab.github.io/kallisto/about), a process termed 'pseudoalignment'.  "
   ]
  },
  {
   "cell_type": "markdown",
   "metadata": {},
   "source": [
    "**Results**\n",
    "\n"
   ]
  },
  {
   "cell_type": "code",
   "execution_count": 8,
   "metadata": {
    "tags": [
     "remove-input"
    ]
   },
   "outputs": [
    {
     "data": {
      "text/html": [
       "\n",
       "        <iframe\n",
       "            width=\"400\"\n",
       "            height=\"400\"\n",
       "            src=\"../../../results/counts/total_reads_counted.pdf\"\n",
       "            frameborder=\"0\"\n",
       "            allowfullscreen\n",
       "            \n",
       "        ></iframe>\n",
       "        "
      ],
      "text/plain": [
       "<IPython.lib.display.IFrame at 0x7fdb5c829fd0>"
      ]
     },
     "metadata": {},
     "output_type": "display_data"
    }
   ],
   "source": [
    "def display_image(filename, height=400, width=400):\n",
    "    # the image wouldnt open in markdown\n",
    "    if filename.endswith(\".pdf\"):\n",
    "        from IPython.display import display, IFrame\n",
    "        display(IFrame(filename, width=width, height=height))\n",
    "    else:\n",
    "        from IPython.display import display, Image\n",
    "        display(Image(filename=filename))\n",
    "\n",
    "display_image(filename='../../../results/counts/total_reads_counted.pdf')"
   ]
  },
  {
   "cell_type": "code",
   "execution_count": null,
   "metadata": {},
   "outputs": [],
   "source": []
  }
 ],
 "metadata": {
  "celltoolbar": "Tags",
  "kernelspec": {
   "display_name": "Python 3 (ipykernel)",
   "language": "python",
   "name": "python3"
  },
  "language_info": {
   "codemirror_mode": {
    "name": "ipython",
    "version": 3
   },
   "file_extension": ".py",
   "mimetype": "text/x-python",
   "name": "python",
   "nbconvert_exporter": "python",
   "pygments_lexer": "ipython3",
   "version": "3.7.13"
  },
  "vscode": {
   "interpreter": {
    "hash": "31f2aee4e71d21fbe5cf8b01ff0e069b9275f58929596ceb00d14d90e3e16cd6"
   }
  }
 },
 "nbformat": 4,
 "nbformat_minor": 2
}
