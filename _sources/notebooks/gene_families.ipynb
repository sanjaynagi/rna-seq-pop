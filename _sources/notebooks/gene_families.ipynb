{
 "cells": [
  {
   "cell_type": "markdown",
   "id": "3b8b5509",
   "metadata": {},
   "source": [
    "### Gene family heatmaps\n",
    "\n",
    "\n",
    "**Output Directory:** <span style=\"color:gray;font-weight:bold\">*results/genediff/*</span>\n",
    "\n",
    "**Rules**\n",
    "\n",
    "<span style=\"color:gray;font-weight:bold\">\n",
    "    \n",
    "* *genediff.smk*\n",
    "    * GeneFamilies  \n",
    "\n",
    "</span>    \n",
    "    \n",
    "**Introduction** \n",
    "\n"
   ]
  },
  {
   "cell_type": "code",
   "execution_count": null,
   "id": "8fd1ed75",
   "metadata": {},
   "outputs": [],
   "source": []
  }
 ],
 "metadata": {
  "kernelspec": {
   "display_name": "Python 3 (ipykernel)",
   "language": "python",
   "name": "python3"
  },
  "language_info": {
   "codemirror_mode": {
    "name": "ipython",
    "version": 3
   },
   "file_extension": ".py",
   "mimetype": "text/x-python",
   "name": "python",
   "nbconvert_exporter": "python",
   "pygments_lexer": "ipython3",
   "version": "3.7.13"
  }
 },
 "nbformat": 4,
 "nbformat_minor": 5
}
