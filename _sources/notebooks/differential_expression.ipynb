{
 "cells": [
  {
   "cell_type": "markdown",
   "id": "84d63861",
   "metadata": {},
   "source": [
    "### Differential expression\n",
    "\n",
    "**Output Directories:** <span style=\"color:gray;font-weight:bold\">*results/genediff/*,    *results/isoformdiff/*</span>\n",
    "\n",
    "**Rules**  \n",
    "\n",
    "<span style=\"color:gray;font-weight:bold\">\n",
    "\n",
    "* *diffexp.smk*\n",
    "    * DifferentialGeneExpression\n",
    "    * DifferentialIsoformExpression\n",
    "    * ProgressiveGenes\n",
    "    \n",
    "</span>    \n",
    "    \n",
    "**Introduction** \n",
    "\n",
    "Differential expression analysis for RNA-sequencing is a statistical method used to identify genes or transcripts that show significantly different levels of expression between two or more biological conditions. This can provide insight into the underlying biological mechanisms that drive a particular phenotype and can be used to identify potential causative genes and diagnostic targets.\n",
    "\n",
    "One important aspect of differential expression analysis for RNA-sequencing data is the choice of level at which to perform the analysis. Differential expression can be performed at the gene level, in which case the expression levels of entire genes are compared between the different conditions, or at the isoform level, in which case the expression levels of individual transcript isoforms are compared.\n",
    "\n",
    "*RNA-Seq-Pop* will perform differential expression at the gene-level with [DESeq2](https://bioconductor.org/packages/DESeq2/) and at the isoform level with [sleuth](https://pachterlab.github.io/sleuth/about).\n",
    "\n",
    "\n",
    "**Results**"
   ]
  },
  {
   "cell_type": "code",
   "execution_count": null,
   "id": "f3900ebf",
   "metadata": {},
   "outputs": [],
   "source": []
  }
 ],
 "metadata": {
  "kernelspec": {
   "display_name": "Python 3 (ipykernel)",
   "language": "python",
   "name": "python3"
  },
  "language_info": {
   "codemirror_mode": {
    "name": "ipython",
    "version": 3
   },
   "file_extension": ".py",
   "mimetype": "text/x-python",
   "name": "python",
   "nbconvert_exporter": "python",
   "pygments_lexer": "ipython3",
   "version": "3.7.13"
  }
 },
 "nbformat": 4,
 "nbformat_minor": 5
}
