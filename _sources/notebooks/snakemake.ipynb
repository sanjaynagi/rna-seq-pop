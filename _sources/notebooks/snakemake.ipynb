{
 "cells": [
  {
   "cell_type": "markdown",
   "metadata": {},
   "source": [
    "### Snakemake\n",
    "\n",
    "[Snakemake](https://snakemake.github.io/) is a popular workflow management system for the design of computational pipelines. Snakemake workflows typically involve multiple steps, referred to as rules, with snakemake allowing users to easily specify the input, output, and dependencies for each rule in the pipeline. Dependencies can be automatically installed with conda or singularity. This makes it easier to manage and execute large and complex analyses, and can help ensure that the pipeline is executed in a reproducible and consistent manner. Additionally, Snakemake allows users to easily scale their pipelines to run on multiple cores or even distributed across a cluster, making it well-suited for high-performance computing environments.\n",
    "\n",
    "Documentation: https://snakemake.readthedocs.io/en/stable/   \n",
    "Rolling paper: https://doi.org/10.12688/f1000research.29032.1   \n",
    "\n",
    "*RNA-Seq-Pop* is written according to snakemake best practices. For information on how to use snakemake at the command line, please see [running the workflow](https://sanjaynagi.github.io/rna-seq-pop/notebooks/running_the_workflow.html)."
   ]
  },
  {
   "cell_type": "code",
   "execution_count": 2,
   "metadata": {
    "scrolled": true,
    "tags": [
     "remove-input"
    ]
   },
   "outputs": [
    {
     "data": {
      "text/html": [
       "<iframe width=\"560\" height=\"315\" src=\"https://www.youtube.com/embed/UOKxta3061g\" title=\"YouTube video player\" frameborder=\"0\" allow=\"accelerometer; autoplay; clipboard-write; encrypted-media; gyroscope; picture-in-picture\" allowfullscreen></iframe>\n"
      ],
      "text/plain": [
       "<IPython.core.display.HTML object>"
      ]
     },
     "metadata": {},
     "output_type": "display_data"
    }
   ],
   "source": [
    "%%html\n",
    "<iframe width=\"560\" height=\"315\" src=\"https://www.youtube.com/embed/UOKxta3061g\" title=\"YouTube video player\" frameborder=\"0\" allow=\"accelerometer; autoplay; clipboard-write; encrypted-media; gyroscope; picture-in-picture\" allowfullscreen></iframe>"
   ]
  }
 ],
 "metadata": {
  "celltoolbar": "Tags",
  "kernelspec": {
   "display_name": "Python 3 (ipykernel)",
   "language": "python",
   "name": "python3"
  },
  "language_info": {
   "codemirror_mode": {
    "name": "ipython",
    "version": 3
   },
   "file_extension": ".py",
   "mimetype": "text/x-python",
   "name": "python",
   "nbconvert_exporter": "python",
   "pygments_lexer": "ipython3",
   "version": "3.7.13"
  },
  "vscode": {
   "interpreter": {
    "hash": "31f2aee4e71d21fbe5cf8b01ff0e069b9275f58929596ceb00d14d90e3e16cd6"
   }
  }
 },
 "nbformat": 4,
 "nbformat_minor": 2
}
