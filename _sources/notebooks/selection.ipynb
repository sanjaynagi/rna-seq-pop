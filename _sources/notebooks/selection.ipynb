{
 "cells": [
  {
   "cell_type": "markdown",
   "id": "e4ec6adc",
   "metadata": {},
   "source": [
    "### Selection\n",
    "\n",
    "**Output Directory:**  <span style=\"color:gray;font-weight:bold\">*results/variantAnalysis/selection/*</span>\n",
    "\n",
    "**Rules**  \n",
    "    \n",
    "<span style=\"color:gray;font-weight:bold\">\n",
    "\n",
    "* *variantAnalysis.smk*\n",
    "    * PerGeneFstPBSDxyPi\n",
    "    * WindowedFstPBS\n",
    "\n",
    "</span>\n",
    "\n",
    "**Introduction** \n",
    "\n",
    "Selection is a process that occurs in natural populations, in which certain genetic variants are more likely to be passed on to the next generation than others due to the fact that they provide a fitness advantage.\n",
    "\n",
    "One method of identifying selection is to calculate Fst between two populations. Fst is a measure of genetic differentiation. It is calculated as the ratio of the genetic variance between populations to the total genetic variance within and between populations. By calculating Fst, we can identify genes or regions of the genome showing high differentiation, which may indicate selection acting upon the locus."
   ]
  }
 ],
 "metadata": {
  "kernelspec": {
   "display_name": "Python 3 (ipykernel)",
   "language": "python",
   "name": "python3"
  },
  "language_info": {
   "codemirror_mode": {
    "name": "ipython",
    "version": 3
   },
   "file_extension": ".py",
   "mimetype": "text/x-python",
   "name": "python",
   "nbconvert_exporter": "python",
   "pygments_lexer": "ipython3",
   "version": "3.7.13"
  },
  "vscode": {
   "interpreter": {
    "hash": "31f2aee4e71d21fbe5cf8b01ff0e069b9275f58929596ceb00d14d90e3e16cd6"
   }
  }
 },
 "nbformat": 4,
 "nbformat_minor": 5
}
