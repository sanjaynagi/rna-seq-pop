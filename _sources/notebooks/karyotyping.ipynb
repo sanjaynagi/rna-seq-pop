{
 "cells": [
  {
   "cell_type": "markdown",
   "id": "770dc779",
   "metadata": {},
   "source": [
    "### Karyotyping\n",
    "\n",
    "**Output Directory:** *rna-seq-pop/results/karyotype/*\n",
    "\n",
    "**Rules**  \n",
    "* *workflow/rules/variantAnalysis.smk*\n",
    "    * Karyotype  \n",
    "\n",
    "**Introduction** \n",
    "\n",
    "Chromosomal inversions are a type of structural variation in which a segment of a chromosome is inverted relative to the normal ancestral arrangement. In *Anopheles gambiae*, chromosomal inversions have been extensively studied due to their role in the evolution and adaptation of the species. These inversions can affect gene expression and other cellular processes, and they can also act as barriers to gene flow between different populations. The 2La inversion, which is XXX (@@ ref) long, has been associated with aridity tolerance, *Plasmodium* infection and insecticide resistance (@@ ref). Because the 2La inversion predates the speciation of the gambiae complex, it is the biggest driver in population structure within its breakpoints.\n",
    "\n",
    "The study of chromosomal inversions in Anopheles gambiae has provided important insights into the evolution and biology of this species. In RNA-Seq-Pop, we can estimate the frequency of chromosomal inversions in our samples, using compKaryo and karyotype-tagging SNPs. These are SNPs which reside within the inversion breakpoints, and show fixed differences between karypotypes. \n",
    "\n",
    "**Results**"
   ]
  },
  {
   "cell_type": "code",
   "execution_count": null,
   "id": "7779d447",
   "metadata": {},
   "outputs": [],
   "source": []
  }
 ],
 "metadata": {
  "kernelspec": {
   "display_name": "Python 3 (ipykernel)",
   "language": "python",
   "name": "python3"
  },
  "language_info": {
   "codemirror_mode": {
    "name": "ipython",
    "version": 3
   },
   "file_extension": ".py",
   "mimetype": "text/x-python",
   "name": "python",
   "nbconvert_exporter": "python",
   "pygments_lexer": "ipython3",
   "version": "3.7.13"
  }
 },
 "nbformat": 4,
 "nbformat_minor": 5
}
