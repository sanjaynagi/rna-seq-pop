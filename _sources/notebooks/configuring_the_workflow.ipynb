{
 "cells": [
  {
   "cell_type": "markdown",
   "id": "f0ec785c",
   "metadata": {},
   "source": [
    "## Configuring the workflow\n",
    "\n",
    "RNA-Seq-Pop, like all snakemake workflows, should be configured with a configuration file (config.yaml).\n",
    "\n",
    "The configuration file looks like the following:\n",
    "\n",
    "```\n",
    "metadata: config/samples.tsv                    # samplesheet metadata file\n",
    "\n",
    "dataset: 'Ag_Bouake'                            # Dataset name: Can be anything, will be used to name some main output files\n",
    "\n",
    "## Fastq filenames and locations can either be specified in the config/samples.tsv file in columns called\n",
    "## fq1 and fq2 (paired end reads) OR if auto: True -\n",
    "## gzipped fastq files should be stored in the resources/reads/ directory\n",
    "## If the sample name is Kisumu1 in the samples.tsv file, the paired-end reads \n",
    "## should be named Kisumu1_1.fastq.gz, and Kisumu1_2.fastq.gz. \n",
    "## Treatment names in samples.tsv should not contain underscores\n",
    "fastq:\n",
    "      auto: True                                           # set auto if your files follow the above rules\n",
    "\n",
    "```\n",
    "\n",
    "**metadata**: path to the sample metadata file    \n",
    "**dataset**: give this dataset a name    \n",
    "**fastq**:auto: If true, fastq files are in resources/reads/ and following `{sampleID_1.fastq.gz}` pattern. If False,             there are fq1 and fq2 columns pointing to the reads files for each sample."
   ]
  },
  {
   "cell_type": "markdown",
   "id": "d295aff4",
   "metadata": {},
   "source": [
    "```\n",
    "# Chromosome names for the appropriate species.\n",
    "# Currently, the variant calling and analysis part of workflow requires genes mapped to chromosomes and their physical location.\n",
    "# Please ensure that these correspond exactly to the reference fasta/gff files. Extra unwanted chromosomes (unplaced contigs) can be ignored. \n",
    "# if you need to remove a prefix (Such as \"AgamP4_\"or \"AaegL5_\") from a file, use this sed command - i.e - \"sed s/AgamP4_// An.gambiae.fasta > An.gambiae_clean.fasta\"\n",
    "contigs: ['2L', '2R', '3L', '3R', 'X']\n",
    "\n",
    "# Paths for reference files \n",
    "reference:\n",
    "  genome:\n",
    "        \"resources/reference/Anopheles-gambiae-PEST_CHROMOSOMES_AgamP4.fa\"        # Path to genome reference FASTA file\n",
    "  transcriptome:\n",
    "        \"resources/reference/Anopheles-gambiae-PEST_TRANSCRIPTS_AgamP4.12.fa\"     # Path to transcriptome reference FASTA file\n",
    "  gff:\n",
    "        \"resources/reference/Anopheles-gambiae-PEST_BASEFEATURES_AgamP4.12.gff3\"  # Path to GFF annotation file\n",
    "  snpeffdb:\n",
    "        \"Anopheles_gambiae\"                                                       # SNPeff database name\n",
    "  genes2transcripts:                                                                \n",
    "        \"resources/exampleGene2TranscriptMap.tsv\"                                 # gene names file with gene and transcript names"
   ]
  },
  {
   "cell_type": "markdown",
   "id": "60d7e193",
   "metadata": {},
   "source": [
    "**contigs:** a list of contigs you wish to analyse, must match reference files.\n",
    "\n",
    "reference files:   \n",
    "**genome:** path to the genome (.fa)     \n",
    "**transcriptome:** path to the transcriptome (.fa)  \n",
    "**gff:** path to the genome feature file (.gff3)  \n",
    "**genes2transcripts:** path to the gene to transcript map (.tsv)  "
   ]
  },
  {
   "cell_type": "markdown",
   "id": "f8e232d4",
   "metadata": {},
   "source": [
    "```\n",
    "# List of contrasts to do Differential Expression and Fst analysis on. \n",
    "# Should correspond to the 'treatment' columns of the samples.tsv file, and be separated by an underscore \"_\". i.e 'control_case', or 'Kisumu_Tiassale'.\n",
    "# The treatment names themselves must not contain underscores\n",
    "contrasts:\n",
    "      - 'Kisumu_gambiaeCont'\n",
    "      - 'gambiaeCont_gambiaePM'\n",
    "\n",
    "cutadapt:\n",
    "      activate: False\n",
    "      adaptors:\n",
    "\n",
    "QualityControl:                               # Activate Quality control analyses\n",
    "      activate: True"
   ]
  },
  {
   "cell_type": "markdown",
   "id": "f184f11c",
   "metadata": {},
   "source": [
    "**contrasts**: a list of the pairwise contrasts you wish to run, from values in the treatment column of the sample metadata file. The format is `control_case`.   \n",
    "**cutadapt**:     \n",
    "    *activate*: if True trim reads  \n",
    "    *adaptors*: adaptors to be trimmed   \n",
    "**QualityControl**:    \n",
    "    *activate*: If True run quality control analyses   "
   ]
  },
  {
   "cell_type": "markdown",
   "id": "2160475c",
   "metadata": {},
   "source": [
    "```\n",
    "DifferentialExpression:\n",
    "      activate: True                          # Activate differential expression analyses\n",
    "\n",
    "      venn:\n",
    "            padj_threshold: 0.05\n",
    "            groups: ['gambiaeCont_gambiaePM', 'Kisumu_gambiaeCont']\n",
    "\n",
    "      geneHeatmaps:\n",
    "            activate: False\n",
    "            gene_list_tsv: \"resources/example_heatmap_gene_list.tsv\"\n",
    "\n",
    "      progressiveGenes:                       # Activate progressiveGenes analysis. Will find genes that are consistently up or downregulated across two comparisons. \n",
    "            activate: True                    # For example - which genes upregulated in Kisumu v gambiaeCont, are also upregulated in gambiaeCont v gambiaePM\n",
    "            padj_threshold: 0.05\n",
    "            fc_threshold: 1\n",
    "            groups: \"Kisumu_gambiaeCont_gambiaePM\"\n",
    "\n",
    "      GSEA:                                 # Activate fgsea Gene set enrichment analysis \n",
    "            activate: True\n",
    "            gaf: \"resources/reference/VectorBase-50_AgambiaePEST_GO.gaf\"\n",
    "            KeggSpeciesID: \"aga\"            # 3 letter KEGG species identifier. \"aga\" = Anopheles gambiae/coluzzii. \n",
    "            replaceString: \"AgaP_\"          # An.gambiae KEGG pathways have this string appended which needs removing"
   ]
  },
  {
   "cell_type": "markdown",
   "id": "3b939e45",
   "metadata": {},
   "source": [
    "**Differential Expression**: if true run differential expression analysis \n",
    "**venn**: if true make venn diagrams of de expressed genes\n",
    "**progressiveGenes**: \n",
    "**gsea**:"
   ]
  },
  {
   "cell_type": "markdown",
   "id": "dddecbca",
   "metadata": {},
   "source": [
    "```\n",
    "VariantAnalysis:\n",
    "      activate: True\n",
    "      caller: 'freebayes'\n",
    "      ploidy: 10                          # Ploidy level for freebayes to call at (Generally we are using pooled samples).For diploid organisms, this should be 2 * number of individuals in each pool\n",
    "      chunks: 9                           # Number of chunks to split each chromosome into when parallelising freebayes. 9 or less is recommended. \n",
    "\n",
    "      pca:                                # Run PCA on the genotype data?\n",
    "            activate: True\n",
    "            missingness: 1 \n",
    "      \n",
    "      summaryStatistics:                  # Estimate Population Genetic Summary Statistics such as Dxy, Pi\n",
    "            activate: True\n",
    "            missingness: 1\n",
    "      \n",
    "      selection:                          # Calculate Fst and PBS per gene and in windows\n",
    "            activate: True\n",
    "            missingness: 1\n",
    "            \n",
    "            # Population Branch Statistic analysis (Needs three conditions, two closely related and an outgroup)\n",
    "            pbs:\n",
    "                  activate: True          \n",
    "                  contrasts: \n",
    "                        - 'gambiaePM_gambiaeCont_Kisumu'\n",
    "                  windownames: ['small', 'large']\n",
    "                  windowsizes: [1000, 5000]\n",
    "                  windowsteps: [500, 1000]\n",
    "\n",
    "    # For An.gambiae s.l only - run Ancestry Informative Marker analysis. AIM datasets included in git repo.\n",
    "      ancestry:                                \n",
    "            activate: True\n",
    "            missingness: 0.5                                # proportion between 0 and 1 \n",
    "            gambcolu: \"resources/gamb_vs_colu.zarr\"         # path to gambcolu AIMs\n",
    "            arab: \"resources/gambcolu_vs_arab.zarr\"         # path to arab AIMs\n",
    "\n",
    "      # For Anopheles gambiae s.l only - Run analysis with compkaryo to determine proportion % karyotype\n",
    "      karyotype:                            \n",
    "            activate: True\n",
    "            inversions:\n",
    "                  - \"2La\"\n",
    "                  - \"2Rb\"\n",
    "```"
   ]
  },
  {
   "cell_type": "markdown",
   "id": "bf9ebb56",
   "metadata": {},
   "source": [
    "```\n",
    "miscellaneous:\n",
    "      # Creates allele count .xlsx reports on specific mutations of choice\n",
    "      VariantsOfInterest:             \n",
    "            activate: True                             \n",
    "            path: \"resources/exampleMutations.tsv\"         \n",
    "      \n",
    "      GeneFamiliesHeatmap:\n",
    "            activate: True\n",
    "            eggnog: resources/Anogam_long.pep_eggnog_diamond.emapper.annotations.GO\n",
    "            pfam: resources/Anogam_long.pep_Pfamscan.seqs\n",
    "\n",
    "      # find DE genes that lie under Ag1000g selective sweeps \n",
    "      # Only applicable for Anopheles gambiae s.l\n",
    "      sweeps:\n",
    "            activate: True\n",
    "            padj_threshold: 0.05\n",
    "            fc_threshold: 1.5\n",
    "```"
   ]
  },
  {
   "cell_type": "code",
   "execution_count": null,
   "id": "d28147e8",
   "metadata": {},
   "outputs": [],
   "source": []
  }
 ],
 "metadata": {
  "kernelspec": {
   "display_name": "Python 3 (ipykernel)",
   "language": "python",
   "name": "python3"
  },
  "language_info": {
   "codemirror_mode": {
    "name": "ipython",
    "version": 3
   },
   "file_extension": ".py",
   "mimetype": "text/x-python",
   "name": "python",
   "nbconvert_exporter": "python",
   "pygments_lexer": "ipython3",
   "version": "3.7.13"
  }
 },
 "nbformat": 4,
 "nbformat_minor": 5
}
