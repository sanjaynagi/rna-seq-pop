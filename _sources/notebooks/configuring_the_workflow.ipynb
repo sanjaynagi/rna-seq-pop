{
 "cells": [
  {
   "cell_type": "markdown",
   "id": "f0ec785c",
   "metadata": {},
   "source": [
    "## Configuring RNA-Seq-Pop \n",
    "\n",
    "Before running the workflow, we need to select which analyses we want to run (configuration). This is done by editing the file `config.yaml` in the `config` directory. The config file contains a number of options and parameters, which we describe below.\n",
    "\n",
    "The configuration file looks like the following:\n",
    "\n",
    "```\n",
    "metadata: config/samples.tsv                    \n",
    "\n",
    "dataset: 'Ag_Bouake'                            \n",
    "\n",
    "fastq:\n",
    "      auto: True   \n",
    "      paired: True                                       \n",
    "```\n",
    "\n",
    "**metadata**  \n",
    "Path to the sample metadata file, usually located in the `config` directory.   \n",
    "**dataset**  \n",
    "Name for the dataset, which will be used to name some output files.   \n",
    "**fastq**    \n",
    "*auto*: If true, fastq files are in resources/reads/ and following the `{sampleID_1.fastq.gz}` pattern. If False, there are fq1 and fq2 columns pointing to the reads files for each sample in the sample metadata file. If reads are stored in the `resources/reads` directory, the user must include this prefix in the fq1 and fq2 paths. The fq1 and fq2 columns are ignored if auto is True.  \n",
    "*paired*: If True, the reads are paired-end. If False, the reads are single-end, and there is only an fq1 column in the sample metadata file."
   ]
  },
  {
   "cell_type": "markdown",
   "id": "d295aff4",
   "metadata": {},
   "source": [
    "```\n",
    "contigs: ['2L', '2R', '3L', '3R', 'X']\n",
    "\n",
    "reference:\n",
    "  genome:\n",
    "        \"resources/reference/Anopheles-gambiae-PEST_CHROMOSOMES_AgamP4.fa\"       \n",
    "  transcriptome:\n",
    "        \"resources/reference/Anopheles-gambiae-PEST_TRANSCRIPTS_AgamP4.12.fa\"      \n",
    "  gff:\n",
    "        \"resources/reference/Anopheles-gambiae-PEST_BASEFEATURES_AgamP4.12.gff3\"  \n",
    "  snpeffdb:\n",
    "        \"Anopheles_gambiae\"                                                       \n",
    "  genes2transcripts:                                                                \n",
    "        \"resources/exampleGene2TranscriptMap.tsv\"                                 \n",
    "```"
   ]
  },
  {
   "cell_type": "markdown",
   "id": "60d7e193",
   "metadata": {},
   "source": [
    "**contigs**   \n",
    "A list of contigs you wish to analyse. Must match the reference genome files.\n",
    "\n",
    "**Reference files**   \n",
    "*genome*: Path to the genome (.fa)    \n",
    "*transcriptome*: Path to the transcriptome (.fa)   \n",
    "*gff*: Path to the genome feature file (.gff3)  \n",
    "*genes2transcripts*: Path to the gene to transcript map (.tsv)  "
   ]
  },
  {
   "cell_type": "markdown",
   "id": "f8e232d4",
   "metadata": {},
   "source": [
    "```\n",
    "contrasts:\n",
    "      - 'Kisumu_gambiaeCont'\n",
    "      - 'gambiaeCont_gambiaePM'\n",
    "\n",
    "\n",
    "QualityControl:\n",
    "      cutadapt:\n",
    "            activate: False\n",
    "            adaptors:\n",
    "      fastqc:                               \n",
    "            activate: True\n",
    "      mosdepth:\n",
    "            activate: True\n",
    "      multiqc:\n",
    "            activate: True\n",
    "```"
   ]
  },
  {
   "cell_type": "markdown",
   "id": "f184f11c",
   "metadata": {},
   "source": [
    "**contrasts**  \n",
    "A list of the pairwise contrasts you wish to run, from values in the treatment column of the sample metadata file. The format is `control_case`, or `susceptible_resistant`. \n",
    "\n",
    "**QualityControl**    \n",
    "*cutadapt*: Trim reads with cutadapt    \n",
    "*adaptors*: adaptors to be trimmed   \n",
    "  \n",
    "*fastqc*: *activate*: Run fastqc on read data  \n",
    "*mosdepth*: *activate*: Run mosdepth on read data  \n",
    "*multiqc*: *activate*: Run multiqc on read data  "
   ]
  },
  {
   "cell_type": "markdown",
   "id": "2160475c",
   "metadata": {},
   "source": [
    "```\n",
    "DifferentialExpression:\n",
    "      activate: True                          # Activate differential expression analyses\n",
    "\n",
    "      venn:\n",
    "            activate: True\n",
    "            padj_threshold: 0.05\n",
    "            groups: ['gambiaeCont_gambiaePM', 'Kisumu_gambiaeCont']\n",
    "\n",
    "      progressiveGenes:                       \n",
    "            activate: True                    \n",
    "            padj_threshold: 0.05\n",
    "            fc_threshold: 1\n",
    "            groups: \"Kisumu_gambiaeCont_gambiaePM\"\n",
    "\n",
    "      GSEA:                                 # Activate fgsea Gene set enrichment analysis \n",
    "            activate: True\n",
    "            gaf: \"resources/reference/VectorBase-50_AgambiaePEST_GO.gaf\""
   ]
  },
  {
   "cell_type": "markdown",
   "id": "3b939e45",
   "metadata": {},
   "source": [
    "**Differential Expression**  \n",
    "*activate*: Run differential expression analyses \n",
    "\n",
    "**Venn**  \n",
    "*activate*: Generate venn diagrams of DE expressed genes    \n",
    "*padj_threshold*: threshold to call significance   \n",
    "*groups*: string or list of strings to indicate the DE comparisons we wish to make a venn for. \n",
    "\n",
    "**ProgressiveGenes**   \n",
    "*activate*: Run progressiveGenes analysis. Will find genes that are consistently up or downregulated across two comparisons.  \n",
    "*padj_threshold*: threshold to call significance  \n",
    "*fc_threshold*: threshold to call overexpression  \n",
    "*groups*: String or list of strings, which indicate the 3 populations and 2 DE comparisons to be compared. In this example - which genes upregulated in Kisumu v gambiaeCont, are also upregulated in gambiaeCont v gambiaePM.  \n",
    "\n",
    "**gsea**  \n",
    "*activate*: run hypergeometric test enrichment analysis.  \n",
    "*gaf*: gaf file with go annotations."
   ]
  },
  {
   "cell_type": "markdown",
   "id": "e5922c16",
   "metadata": {},
   "source": [
    "```\n",
    "VariantAnalysis:\n",
    "      activate: True\n",
    "      ploidy: 10                          \n",
    "      chunks: 9                           \n",
    "\n",
    "      pca:                                # Run PCA on the genotype data?\n",
    "            activate: True\n",
    "            missingness: 1 \n",
    "      \n",
    "      summaryStatistics:                  # Estimate Population Genetic Summary Statistics such as Dxy, Pi\n",
    "            activate: True\n",
    "            missingness: 1\n",
    "      \n",
    "      selection:                          # Calculate Fst and PBS per gene and in windows\n",
    "            activate: True\n",
    "            missingness: 1\n",
    "\n",
    "            pbs:\n",
    "                  activate: True          \n",
    "                  contrasts: \n",
    "                        - 'gambiaePM_gambiaeCont_Kisumu'\n",
    "```"
   ]
  },
  {
   "cell_type": "markdown",
   "id": "e66c3803",
   "metadata": {},
   "source": [
    "**VariantAnalysis**  \n",
    "*activate* : Perform genome alignment and variant calling.  \n",
    "*ploidy* : the ploidy of our samples to call variants at. If you have pooled data, the ploidy should be n_samples per pool * organism ploidy.    \n",
    "*chunks* : The number of chunks to split each chromosome into to parallelise variant calling. \n",
    "\n",
    "**pca**  \n",
    "*activate*: Run PCA on the SNP data  \n",
    "*missingness*: a filter - the proportion of samples that have data at a given allele. 1 means a genomic position can have no missing calls across all samples.\n",
    "\n",
    "**summaryStatistics**  \n",
    "*activate*: Run genetic diversity analyses.   \n",
    "*missingness*: a filter - the proportion of samples that have data at a given allele. 1 means a genomic position can have no missing calls across all samples.\n",
    "\n",
    "**selection**  \n",
    "*activate*: Run Fst analysis  \n",
    "*missingness*: a filter - the proportion of samples that have data at a given allele. 1 means a genomic position can have no missing calls across all samples.\n",
    "\n",
    "**pbs**   \n",
    "*activate*: Run population branch statistic analysis. Requires 3 suitable treatment groups, two closely related and an outgroup. For resistance, do survivors_unexposed_susceptible.   \n",
    "*contrasts*: List of the 3 groups as strings separated by an underscore."
   ]
  },
  {
   "cell_type": "markdown",
   "id": "dddecbca",
   "metadata": {},
   "source": [
    "```\n",
    "      ancestry:                                \n",
    "            activate: True\n",
    "            missingness: 0.5                                # proportion between 0 and 1 \n",
    "            gambcolu: \"resources/gamb_vs_colu.zarr\"         # path to gambcolu AIMs\n",
    "            arab: \"resources/gambcolu_vs_arab.zarr\"         # path to arab AIMs\n",
    "\n",
    "      karyotype:                            \n",
    "            activate: True\n",
    "            inversions:\n",
    "                  - \"2La\"\n",
    "                  - \"2Rb\"\n",
    "```"
   ]
  },
  {
   "cell_type": "markdown",
   "id": "0c3497ea",
   "metadata": {},
   "source": [
    "**ancestry** (*An. gambiae* only)   \n",
    "*activate*: If True, run AIM analysis.    \n",
    "*missingness*: a filter - the proportion of samples that have data at a given allele. 1 means a genomic position can have no missing calls across all samples.   \n",
    "*gambcolu*: path to gamb_colu aims   \n",
    "*arab*: path to gambcolu_vs_arabiensis aims   \n",
    "\n",
    "**karyotype** (*An. gambiae* only)    \n",
    "*activate*: If True, run karyotyping module.  \n",
    "*inversions*: A list of inversions in compKaryo to analyse."
   ]
  },
  {
   "cell_type": "markdown",
   "id": "bf9ebb56",
   "metadata": {},
   "source": [
    "```\n",
    "miscellaneous:\n",
    "      VariantsOfInterest:             \n",
    "            activate: True                             \n",
    "            path: \"resources/exampleMutations.tsv\"         \n",
    "      \n",
    "      GeneFamiliesHeatmap:\n",
    "            activate: True\n",
    "            eggnog: resources/Anogam_long.pep_eggnog_diamond.emapper.annotations.GO\n",
    "            pfam: resources/Anogam_long.pep_Pfamscan.seqs\n",
    "\n",
    "      sweeps:\n",
    "            activate: True\n",
    "            padj_threshold: 0.05\n",
    "            fc_threshold: 1.5\n",
    "```"
   ]
  },
  {
   "cell_type": "markdown",
   "id": "440d50df",
   "metadata": {},
   "source": [
    "**VariantsOfInterest**   \n",
    "*activate*: If True, run variants of interest analysis   \n",
    "*path*: Path to variants of interest data  \n",
    "\n",
    "**GeneFamiliesHeatmap**   \n",
    "*activate*: Run heatmaps on gene families using go terms and pfam domains.  \n",
    "*eggnog*: path to eggnog file with go annotations for your organism (produced by eggnog-mapper).  \n",
    "*pfam*: path to pfam domains for your organism.  \n",
    "\n",
    "**sweeps** (*An. gambiae* only)  \n",
    "*activate*: Run analysis to determine if DE genes lie under known selective sweep loci.   \n",
    "*padj_threshold*: threshold to call significance  \n",
    "*fc_threshold*: threshold to call overexpression  "
   ]
  },
  {
   "cell_type": "markdown",
   "id": "b68c50e7",
   "metadata": {},
   "source": [
    "**If you have any issues configuring the pipeline, please watch the video walkthrough first, and raise an issue on github or [email me](mailto:sanjay.c.nagi@gmail.com).**"
   ]
  }
 ],
 "metadata": {
  "kernelspec": {
   "display_name": "Python 3.6.9 64-bit",
   "language": "python",
   "name": "python3"
  },
  "language_info": {
   "codemirror_mode": {
    "name": "ipython",
    "version": 3
   },
   "file_extension": ".py",
   "mimetype": "text/x-python",
   "name": "python",
   "nbconvert_exporter": "python",
   "pygments_lexer": "ipython3",
   "version": "3.6.9"
  },
  "vscode": {
   "interpreter": {
    "hash": "31f2aee4e71d21fbe5cf8b01ff0e069b9275f58929596ceb00d14d90e3e16cd6"
   }
  }
 },
 "nbformat": 4,
 "nbformat_minor": 5
}
