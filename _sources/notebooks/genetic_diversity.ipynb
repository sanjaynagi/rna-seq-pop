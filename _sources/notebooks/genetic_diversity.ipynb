{
 "cells": [
  {
   "cell_type": "markdown",
   "id": "b39380af",
   "metadata": {},
   "source": [
    "### Genetic diversity\n",
    "\n",
    "**Output Directory:** *rna-seq-pop/results/variantAnalysis/diversity/*\n",
    "\n",
    "**Rules**  \n",
    "* *workflow/rules/variantAnalysis.smk*\n",
    "    * SummaryStatistics  \n",
    "\n",
    "**Introduction** \n",
    "\n",
    "Genetic diversity is an important concept in population genetics, and it refers to the amount of variation in the genetics of a population. This variation can take many forms, including single nucleotide polymorphisms (SNPs), small insertions or deletions (INDELs), and larger structural changes and rearrangememts. \n",
    "\n",
    "One measure of genetic diversity is nucleotide diversity (aka pi), which is a measure of the average number of nucleotide differences per site between two randomly chosen genomes within a population. Another measure is Watterson's theta, which is a measure of the average number of segregating sites within a population. These measures can provide valuable insights into the evolutionary history of a population.\n",
    "\n",
    "In RNA-Seq-Pop, we calculate genetic diversity from the called SNPs using [scikit-allel](https://scikit-allel.readthedocs.io/en/stable/). As indel calling is unreliable from RNA-Seq data, we filter out any indel calls prior to variant analysis. "
   ]
  },
  {
   "cell_type": "markdown",
   "id": "a352ebe1",
   "metadata": {},
   "source": [
    "**Results**"
   ]
  }
 ],
 "metadata": {
  "kernelspec": {
   "display_name": "Python 3 (ipykernel)",
   "language": "python",
   "name": "python3"
  },
  "language_info": {
   "codemirror_mode": {
    "name": "ipython",
    "version": 3
   },
   "file_extension": ".py",
   "mimetype": "text/x-python",
   "name": "python",
   "nbconvert_exporter": "python",
   "pygments_lexer": "ipython3",
   "version": "3.7.13"
  }
 },
 "nbformat": 4,
 "nbformat_minor": 5
}
